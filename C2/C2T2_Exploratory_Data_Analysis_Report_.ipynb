{
  "nbformat": 4,
  "nbformat_minor": 0,
  "metadata": {
    "colab": {
      "name": "C2.T2_Exploratory Data Analysis Report .ipynb",
      "provenance": [],
      "collapsed_sections": [],
      "mount_file_id": "1DZP0SlmheIYu5727RUrqiC4Bjw03668P",
      "authorship_tag": "ABX9TyMteCiu2h+1XTYbK/Pq9XJD",
      "include_colab_link": true
    },
    "kernelspec": {
      "name": "python3",
      "display_name": "Python 3"
    },
    "language_info": {
      "name": "python"
    }
  },
  "cells": [
    {
      "cell_type": "markdown",
      "metadata": {
        "id": "view-in-github",
        "colab_type": "text"
      },
      "source": [
        "<a href=\"https://colab.research.google.com/github/Sail0027/DA_UT_2021/blob/main/C2/C2T2_Exploratory_Data_Analysis_Report_.ipynb\" target=\"_parent\"><img src=\"https://colab.research.google.com/assets/colab-badge.svg\" alt=\"Open In Colab\"/></a>"
      ]
    },
    {
      "cell_type": "markdown",
      "metadata": {
        "id": "O4mzUvGL55Q4"
      },
      "source": [
        "# Background"
      ]
    },
    {
      "cell_type": "markdown",
      "metadata": {
        "id": "U6nPr4T_58fC"
      },
      "source": [
        "It's ready to begin the work by preparing and exploring the data.\n",
        "Here are some notes about the project:\n",
        "\n",
        "**Problem:**</p>\n",
        "\n",
        "1.   Increase in customer default rates - This is bad for Credit One since we approve the customers for loans in the first place.\n",
        "2.   Revenue and customer loss for clients and, eventually, loss of clients for Credit One\n",
        "\n",
        "**Investigative Questions::**</p>\n",
        "\n",
        "1.   How do you ensure that customers can/will pay their loans? Can we do this?\n",
        "\n",
        "**Some Lessons:**</p>\n",
        "\n",
        "1.   We cannot control customer spending habits\n",
        "2.   We cannot always go from what we find in our analysis to the underlying \"why\"\n",
        "3.   We must on the problem(s) we can solve: What attributes in the data can we deem to be statistically significant to the problem at hand?\n",
        "4.   What concrete information can we derive from the data we have?\n",
        "5.   What proven methods can we use to uncover more information and why?\n"
      ]
    },
    {
      "cell_type": "markdown",
      "metadata": {
        "id": "NS3l4Ns747gT"
      },
      "source": [
        "# Import Data"
      ]
    },
    {
      "cell_type": "code",
      "metadata": {
        "id": "LeHrxETV5X_O"
      },
      "source": [
        "# import:\n",
        "import pandas as pd\n",
        "import numpy as np\n",
        "import matplotlib.pyplot as plt\n",
        "import seaborn as sns\n",
        "%matplotlib inline"
      ],
      "execution_count": 172,
      "outputs": []
    },
    {
      "cell_type": "code",
      "metadata": {
        "id": "HJyLApqc5fIo"
      },
      "source": [
        "csv_path = '/content/drive/MyDrive/01_DA UT_2021/02_C2/02_C2.T2/Default_Payments_Cleansed.csv'\n",
        "credit = pd.read_csv(csv_path)"
      ],
      "execution_count": 173,
      "outputs": []
    },
    {
      "cell_type": "code",
      "metadata": {
        "colab": {
          "base_uri": "https://localhost:8080/",
          "height": 326
        },
        "id": "_tGwXQtG5kXu",
        "outputId": "6cecfb9f-1988-4ff1-8139-75078f34d2cc"
      },
      "source": [
        "# Check the first 5 rows of the data frame:\n",
        "credit.head()"
      ],
      "execution_count": 3,
      "outputs": [
        {
          "output_type": "execute_result",
          "data": {
            "text/html": [
              "<div>\n",
              "<style scoped>\n",
              "    .dataframe tbody tr th:only-of-type {\n",
              "        vertical-align: middle;\n",
              "    }\n",
              "\n",
              "    .dataframe tbody tr th {\n",
              "        vertical-align: top;\n",
              "    }\n",
              "\n",
              "    .dataframe thead th {\n",
              "        text-align: right;\n",
              "    }\n",
              "</style>\n",
              "<table border=\"1\" class=\"dataframe\">\n",
              "  <thead>\n",
              "    <tr style=\"text-align: right;\">\n",
              "      <th></th>\n",
              "      <th>ID</th>\n",
              "      <th>LIMIT_BAL</th>\n",
              "      <th>SEX</th>\n",
              "      <th>EDUCATION</th>\n",
              "      <th>MARRIAGE</th>\n",
              "      <th>AGE</th>\n",
              "      <th>PAY_0</th>\n",
              "      <th>PAY_2</th>\n",
              "      <th>PAY_3</th>\n",
              "      <th>PAY_4</th>\n",
              "      <th>PAY_5</th>\n",
              "      <th>PAY_6</th>\n",
              "      <th>BILL_AMT1</th>\n",
              "      <th>BILL_AMT2</th>\n",
              "      <th>BILL_AMT3</th>\n",
              "      <th>BILL_AMT4</th>\n",
              "      <th>BILL_AMT5</th>\n",
              "      <th>BILL_AMT6</th>\n",
              "      <th>PAY_AMT1</th>\n",
              "      <th>PAY_AMT2</th>\n",
              "      <th>PAY_AMT3</th>\n",
              "      <th>PAY_AMT4</th>\n",
              "      <th>PAY_AMT5</th>\n",
              "      <th>PAY_AMT6</th>\n",
              "      <th>default payment next month</th>\n",
              "    </tr>\n",
              "  </thead>\n",
              "  <tbody>\n",
              "    <tr>\n",
              "      <th>0</th>\n",
              "      <td>1</td>\n",
              "      <td>20000</td>\n",
              "      <td>female</td>\n",
              "      <td>university</td>\n",
              "      <td>1</td>\n",
              "      <td>24</td>\n",
              "      <td>2</td>\n",
              "      <td>2</td>\n",
              "      <td>-1</td>\n",
              "      <td>-1</td>\n",
              "      <td>-2</td>\n",
              "      <td>-2</td>\n",
              "      <td>3913</td>\n",
              "      <td>3102</td>\n",
              "      <td>689</td>\n",
              "      <td>0</td>\n",
              "      <td>0</td>\n",
              "      <td>0</td>\n",
              "      <td>0</td>\n",
              "      <td>689</td>\n",
              "      <td>0</td>\n",
              "      <td>0</td>\n",
              "      <td>0</td>\n",
              "      <td>0</td>\n",
              "      <td>default</td>\n",
              "    </tr>\n",
              "    <tr>\n",
              "      <th>1</th>\n",
              "      <td>2</td>\n",
              "      <td>120000</td>\n",
              "      <td>female</td>\n",
              "      <td>university</td>\n",
              "      <td>2</td>\n",
              "      <td>26</td>\n",
              "      <td>-1</td>\n",
              "      <td>2</td>\n",
              "      <td>0</td>\n",
              "      <td>0</td>\n",
              "      <td>0</td>\n",
              "      <td>2</td>\n",
              "      <td>2682</td>\n",
              "      <td>1725</td>\n",
              "      <td>2682</td>\n",
              "      <td>3272</td>\n",
              "      <td>3455</td>\n",
              "      <td>3261</td>\n",
              "      <td>0</td>\n",
              "      <td>1000</td>\n",
              "      <td>1000</td>\n",
              "      <td>1000</td>\n",
              "      <td>0</td>\n",
              "      <td>2000</td>\n",
              "      <td>default</td>\n",
              "    </tr>\n",
              "    <tr>\n",
              "      <th>2</th>\n",
              "      <td>3</td>\n",
              "      <td>90000</td>\n",
              "      <td>female</td>\n",
              "      <td>university</td>\n",
              "      <td>2</td>\n",
              "      <td>34</td>\n",
              "      <td>0</td>\n",
              "      <td>0</td>\n",
              "      <td>0</td>\n",
              "      <td>0</td>\n",
              "      <td>0</td>\n",
              "      <td>0</td>\n",
              "      <td>29239</td>\n",
              "      <td>14027</td>\n",
              "      <td>13559</td>\n",
              "      <td>14331</td>\n",
              "      <td>14948</td>\n",
              "      <td>15549</td>\n",
              "      <td>1518</td>\n",
              "      <td>1500</td>\n",
              "      <td>1000</td>\n",
              "      <td>1000</td>\n",
              "      <td>1000</td>\n",
              "      <td>5000</td>\n",
              "      <td>not default</td>\n",
              "    </tr>\n",
              "    <tr>\n",
              "      <th>3</th>\n",
              "      <td>4</td>\n",
              "      <td>50000</td>\n",
              "      <td>female</td>\n",
              "      <td>university</td>\n",
              "      <td>1</td>\n",
              "      <td>37</td>\n",
              "      <td>0</td>\n",
              "      <td>0</td>\n",
              "      <td>0</td>\n",
              "      <td>0</td>\n",
              "      <td>0</td>\n",
              "      <td>0</td>\n",
              "      <td>46990</td>\n",
              "      <td>48233</td>\n",
              "      <td>49291</td>\n",
              "      <td>28314</td>\n",
              "      <td>28959</td>\n",
              "      <td>29547</td>\n",
              "      <td>2000</td>\n",
              "      <td>2019</td>\n",
              "      <td>1200</td>\n",
              "      <td>1100</td>\n",
              "      <td>1069</td>\n",
              "      <td>1000</td>\n",
              "      <td>not default</td>\n",
              "    </tr>\n",
              "    <tr>\n",
              "      <th>4</th>\n",
              "      <td>5</td>\n",
              "      <td>50000</td>\n",
              "      <td>male</td>\n",
              "      <td>university</td>\n",
              "      <td>1</td>\n",
              "      <td>57</td>\n",
              "      <td>-1</td>\n",
              "      <td>0</td>\n",
              "      <td>-1</td>\n",
              "      <td>0</td>\n",
              "      <td>0</td>\n",
              "      <td>0</td>\n",
              "      <td>8617</td>\n",
              "      <td>5670</td>\n",
              "      <td>35835</td>\n",
              "      <td>20940</td>\n",
              "      <td>19146</td>\n",
              "      <td>19131</td>\n",
              "      <td>2000</td>\n",
              "      <td>36681</td>\n",
              "      <td>10000</td>\n",
              "      <td>9000</td>\n",
              "      <td>689</td>\n",
              "      <td>679</td>\n",
              "      <td>not default</td>\n",
              "    </tr>\n",
              "  </tbody>\n",
              "</table>\n",
              "</div>"
            ],
            "text/plain": [
              "   ID  LIMIT_BAL     SEX  ... PAY_AMT5  PAY_AMT6  default payment next month\n",
              "0   1      20000  female  ...        0         0                     default\n",
              "1   2     120000  female  ...        0      2000                     default\n",
              "2   3      90000  female  ...     1000      5000                 not default\n",
              "3   4      50000  female  ...     1069      1000                 not default\n",
              "4   5      50000    male  ...      689       679                 not default\n",
              "\n",
              "[5 rows x 25 columns]"
            ]
          },
          "metadata": {
            "tags": []
          },
          "execution_count": 3
        }
      ]
    },
    {
      "cell_type": "code",
      "metadata": {
        "colab": {
          "base_uri": "https://localhost:8080/"
        },
        "id": "9gpwmEiG7dDm",
        "outputId": "8598fe6c-2628-4647-e52e-7e45e0c86409"
      },
      "source": [
        "# Information about the data set:\n",
        "credit.info()"
      ],
      "execution_count": 4,
      "outputs": [
        {
          "output_type": "stream",
          "text": [
            "<class 'pandas.core.frame.DataFrame'>\n",
            "RangeIndex: 30000 entries, 0 to 29999\n",
            "Data columns (total 25 columns):\n",
            " #   Column                      Non-Null Count  Dtype \n",
            "---  ------                      --------------  ----- \n",
            " 0   ID                          30000 non-null  int64 \n",
            " 1   LIMIT_BAL                   30000 non-null  int64 \n",
            " 2   SEX                         30000 non-null  object\n",
            " 3   EDUCATION                   30000 non-null  object\n",
            " 4   MARRIAGE                    30000 non-null  int64 \n",
            " 5   AGE                         30000 non-null  int64 \n",
            " 6   PAY_0                       30000 non-null  int64 \n",
            " 7   PAY_2                       30000 non-null  int64 \n",
            " 8   PAY_3                       30000 non-null  int64 \n",
            " 9   PAY_4                       30000 non-null  int64 \n",
            " 10  PAY_5                       30000 non-null  int64 \n",
            " 11  PAY_6                       30000 non-null  int64 \n",
            " 12  BILL_AMT1                   30000 non-null  int64 \n",
            " 13  BILL_AMT2                   30000 non-null  int64 \n",
            " 14  BILL_AMT3                   30000 non-null  int64 \n",
            " 15  BILL_AMT4                   30000 non-null  int64 \n",
            " 16  BILL_AMT5                   30000 non-null  int64 \n",
            " 17  BILL_AMT6                   30000 non-null  int64 \n",
            " 18  PAY_AMT1                    30000 non-null  int64 \n",
            " 19  PAY_AMT2                    30000 non-null  int64 \n",
            " 20  PAY_AMT3                    30000 non-null  int64 \n",
            " 21  PAY_AMT4                    30000 non-null  int64 \n",
            " 22  PAY_AMT5                    30000 non-null  int64 \n",
            " 23  PAY_AMT6                    30000 non-null  int64 \n",
            " 24  default payment next month  30000 non-null  object\n",
            "dtypes: int64(22), object(3)\n",
            "memory usage: 5.7+ MB\n"
          ],
          "name": "stdout"
        }
      ]
    },
    {
      "cell_type": "code",
      "metadata": {
        "colab": {
          "base_uri": "https://localhost:8080/"
        },
        "id": "8v3a62wH7gHY",
        "outputId": "3384709e-12f8-4722-c09c-1174fc0e034c"
      },
      "source": [
        "# Data type of each column:\n",
        "credit.dtypes"
      ],
      "execution_count": 5,
      "outputs": [
        {
          "output_type": "execute_result",
          "data": {
            "text/plain": [
              "ID                             int64\n",
              "LIMIT_BAL                      int64\n",
              "SEX                           object\n",
              "EDUCATION                     object\n",
              "MARRIAGE                       int64\n",
              "AGE                            int64\n",
              "PAY_0                          int64\n",
              "PAY_2                          int64\n",
              "PAY_3                          int64\n",
              "PAY_4                          int64\n",
              "PAY_5                          int64\n",
              "PAY_6                          int64\n",
              "BILL_AMT1                      int64\n",
              "BILL_AMT2                      int64\n",
              "BILL_AMT3                      int64\n",
              "BILL_AMT4                      int64\n",
              "BILL_AMT5                      int64\n",
              "BILL_AMT6                      int64\n",
              "PAY_AMT1                       int64\n",
              "PAY_AMT2                       int64\n",
              "PAY_AMT3                       int64\n",
              "PAY_AMT4                       int64\n",
              "PAY_AMT5                       int64\n",
              "PAY_AMT6                       int64\n",
              "default payment next month    object\n",
              "dtype: object"
            ]
          },
          "metadata": {
            "tags": []
          },
          "execution_count": 5
        }
      ]
    },
    {
      "cell_type": "markdown",
      "metadata": {
        "id": "0n-tVOH370l4"
      },
      "source": [
        "## Get Dummies"
      ]
    },
    {
      "cell_type": "code",
      "metadata": {
        "colab": {
          "base_uri": "https://localhost:8080/",
          "height": 275
        },
        "id": "BWHCqnA-7mO1",
        "outputId": "05289abd-9da5-4fc8-de67-012c46089a9f"
      },
      "source": [
        "# Rename the column:\n",
        "credit = credit.rename(columns={'default payment next month': 'DEFAULT'})\n",
        "credit.head()"
      ],
      "execution_count": 175,
      "outputs": [
        {
          "output_type": "execute_result",
          "data": {
            "text/html": [
              "<div>\n",
              "<style scoped>\n",
              "    .dataframe tbody tr th:only-of-type {\n",
              "        vertical-align: middle;\n",
              "    }\n",
              "\n",
              "    .dataframe tbody tr th {\n",
              "        vertical-align: top;\n",
              "    }\n",
              "\n",
              "    .dataframe thead th {\n",
              "        text-align: right;\n",
              "    }\n",
              "</style>\n",
              "<table border=\"1\" class=\"dataframe\">\n",
              "  <thead>\n",
              "    <tr style=\"text-align: right;\">\n",
              "      <th></th>\n",
              "      <th>ID</th>\n",
              "      <th>LIMIT_BAL</th>\n",
              "      <th>SEX</th>\n",
              "      <th>EDUCATION</th>\n",
              "      <th>MARRIAGE</th>\n",
              "      <th>AGE</th>\n",
              "      <th>PAY_0</th>\n",
              "      <th>PAY_2</th>\n",
              "      <th>PAY_3</th>\n",
              "      <th>PAY_4</th>\n",
              "      <th>PAY_5</th>\n",
              "      <th>PAY_6</th>\n",
              "      <th>BILL_AMT1</th>\n",
              "      <th>BILL_AMT2</th>\n",
              "      <th>BILL_AMT3</th>\n",
              "      <th>BILL_AMT4</th>\n",
              "      <th>BILL_AMT5</th>\n",
              "      <th>BILL_AMT6</th>\n",
              "      <th>PAY_AMT1</th>\n",
              "      <th>PAY_AMT2</th>\n",
              "      <th>PAY_AMT3</th>\n",
              "      <th>PAY_AMT4</th>\n",
              "      <th>PAY_AMT5</th>\n",
              "      <th>PAY_AMT6</th>\n",
              "      <th>DEFAULT</th>\n",
              "    </tr>\n",
              "  </thead>\n",
              "  <tbody>\n",
              "    <tr>\n",
              "      <th>0</th>\n",
              "      <td>1</td>\n",
              "      <td>20000</td>\n",
              "      <td>female</td>\n",
              "      <td>university</td>\n",
              "      <td>1</td>\n",
              "      <td>24</td>\n",
              "      <td>2</td>\n",
              "      <td>2</td>\n",
              "      <td>-1</td>\n",
              "      <td>-1</td>\n",
              "      <td>-2</td>\n",
              "      <td>-2</td>\n",
              "      <td>3913</td>\n",
              "      <td>3102</td>\n",
              "      <td>689</td>\n",
              "      <td>0</td>\n",
              "      <td>0</td>\n",
              "      <td>0</td>\n",
              "      <td>0</td>\n",
              "      <td>689</td>\n",
              "      <td>0</td>\n",
              "      <td>0</td>\n",
              "      <td>0</td>\n",
              "      <td>0</td>\n",
              "      <td>default</td>\n",
              "    </tr>\n",
              "    <tr>\n",
              "      <th>1</th>\n",
              "      <td>2</td>\n",
              "      <td>120000</td>\n",
              "      <td>female</td>\n",
              "      <td>university</td>\n",
              "      <td>2</td>\n",
              "      <td>26</td>\n",
              "      <td>-1</td>\n",
              "      <td>2</td>\n",
              "      <td>0</td>\n",
              "      <td>0</td>\n",
              "      <td>0</td>\n",
              "      <td>2</td>\n",
              "      <td>2682</td>\n",
              "      <td>1725</td>\n",
              "      <td>2682</td>\n",
              "      <td>3272</td>\n",
              "      <td>3455</td>\n",
              "      <td>3261</td>\n",
              "      <td>0</td>\n",
              "      <td>1000</td>\n",
              "      <td>1000</td>\n",
              "      <td>1000</td>\n",
              "      <td>0</td>\n",
              "      <td>2000</td>\n",
              "      <td>default</td>\n",
              "    </tr>\n",
              "    <tr>\n",
              "      <th>2</th>\n",
              "      <td>3</td>\n",
              "      <td>90000</td>\n",
              "      <td>female</td>\n",
              "      <td>university</td>\n",
              "      <td>2</td>\n",
              "      <td>34</td>\n",
              "      <td>0</td>\n",
              "      <td>0</td>\n",
              "      <td>0</td>\n",
              "      <td>0</td>\n",
              "      <td>0</td>\n",
              "      <td>0</td>\n",
              "      <td>29239</td>\n",
              "      <td>14027</td>\n",
              "      <td>13559</td>\n",
              "      <td>14331</td>\n",
              "      <td>14948</td>\n",
              "      <td>15549</td>\n",
              "      <td>1518</td>\n",
              "      <td>1500</td>\n",
              "      <td>1000</td>\n",
              "      <td>1000</td>\n",
              "      <td>1000</td>\n",
              "      <td>5000</td>\n",
              "      <td>not default</td>\n",
              "    </tr>\n",
              "    <tr>\n",
              "      <th>3</th>\n",
              "      <td>4</td>\n",
              "      <td>50000</td>\n",
              "      <td>female</td>\n",
              "      <td>university</td>\n",
              "      <td>1</td>\n",
              "      <td>37</td>\n",
              "      <td>0</td>\n",
              "      <td>0</td>\n",
              "      <td>0</td>\n",
              "      <td>0</td>\n",
              "      <td>0</td>\n",
              "      <td>0</td>\n",
              "      <td>46990</td>\n",
              "      <td>48233</td>\n",
              "      <td>49291</td>\n",
              "      <td>28314</td>\n",
              "      <td>28959</td>\n",
              "      <td>29547</td>\n",
              "      <td>2000</td>\n",
              "      <td>2019</td>\n",
              "      <td>1200</td>\n",
              "      <td>1100</td>\n",
              "      <td>1069</td>\n",
              "      <td>1000</td>\n",
              "      <td>not default</td>\n",
              "    </tr>\n",
              "    <tr>\n",
              "      <th>4</th>\n",
              "      <td>5</td>\n",
              "      <td>50000</td>\n",
              "      <td>male</td>\n",
              "      <td>university</td>\n",
              "      <td>1</td>\n",
              "      <td>57</td>\n",
              "      <td>-1</td>\n",
              "      <td>0</td>\n",
              "      <td>-1</td>\n",
              "      <td>0</td>\n",
              "      <td>0</td>\n",
              "      <td>0</td>\n",
              "      <td>8617</td>\n",
              "      <td>5670</td>\n",
              "      <td>35835</td>\n",
              "      <td>20940</td>\n",
              "      <td>19146</td>\n",
              "      <td>19131</td>\n",
              "      <td>2000</td>\n",
              "      <td>36681</td>\n",
              "      <td>10000</td>\n",
              "      <td>9000</td>\n",
              "      <td>689</td>\n",
              "      <td>679</td>\n",
              "      <td>not default</td>\n",
              "    </tr>\n",
              "  </tbody>\n",
              "</table>\n",
              "</div>"
            ],
            "text/plain": [
              "   ID  LIMIT_BAL     SEX   EDUCATION  ...  PAY_AMT4  PAY_AMT5  PAY_AMT6      DEFAULT\n",
              "0   1      20000  female  university  ...         0         0         0      default\n",
              "1   2     120000  female  university  ...      1000         0      2000      default\n",
              "2   3      90000  female  university  ...      1000      1000      5000  not default\n",
              "3   4      50000  female  university  ...      1100      1069      1000  not default\n",
              "4   5      50000    male  university  ...      9000       689       679  not default\n",
              "\n",
              "[5 rows x 25 columns]"
            ]
          },
          "metadata": {
            "tags": []
          },
          "execution_count": 175
        }
      ]
    },
    {
      "cell_type": "code",
      "metadata": {
        "colab": {
          "base_uri": "https://localhost:8080/",
          "height": 224
        },
        "id": "4UoSOV80NZAR",
        "outputId": "25cdcb43-c3df-47a9-828c-e72931c29289"
      },
      "source": [
        "# Get dummies:\n",
        "credit['DEFAULT'] = pd.get_dummies(credit['DEFAULT'])\n",
        "credit.head()"
      ],
      "execution_count": 176,
      "outputs": [
        {
          "output_type": "execute_result",
          "data": {
            "text/html": [
              "<div>\n",
              "<style scoped>\n",
              "    .dataframe tbody tr th:only-of-type {\n",
              "        vertical-align: middle;\n",
              "    }\n",
              "\n",
              "    .dataframe tbody tr th {\n",
              "        vertical-align: top;\n",
              "    }\n",
              "\n",
              "    .dataframe thead th {\n",
              "        text-align: right;\n",
              "    }\n",
              "</style>\n",
              "<table border=\"1\" class=\"dataframe\">\n",
              "  <thead>\n",
              "    <tr style=\"text-align: right;\">\n",
              "      <th></th>\n",
              "      <th>ID</th>\n",
              "      <th>LIMIT_BAL</th>\n",
              "      <th>SEX</th>\n",
              "      <th>EDUCATION</th>\n",
              "      <th>MARRIAGE</th>\n",
              "      <th>AGE</th>\n",
              "      <th>PAY_0</th>\n",
              "      <th>PAY_2</th>\n",
              "      <th>PAY_3</th>\n",
              "      <th>PAY_4</th>\n",
              "      <th>PAY_5</th>\n",
              "      <th>PAY_6</th>\n",
              "      <th>BILL_AMT1</th>\n",
              "      <th>BILL_AMT2</th>\n",
              "      <th>BILL_AMT3</th>\n",
              "      <th>BILL_AMT4</th>\n",
              "      <th>BILL_AMT5</th>\n",
              "      <th>BILL_AMT6</th>\n",
              "      <th>PAY_AMT1</th>\n",
              "      <th>PAY_AMT2</th>\n",
              "      <th>PAY_AMT3</th>\n",
              "      <th>PAY_AMT4</th>\n",
              "      <th>PAY_AMT5</th>\n",
              "      <th>PAY_AMT6</th>\n",
              "      <th>DEFAULT</th>\n",
              "    </tr>\n",
              "  </thead>\n",
              "  <tbody>\n",
              "    <tr>\n",
              "      <th>0</th>\n",
              "      <td>1</td>\n",
              "      <td>20000</td>\n",
              "      <td>female</td>\n",
              "      <td>university</td>\n",
              "      <td>1</td>\n",
              "      <td>24</td>\n",
              "      <td>2</td>\n",
              "      <td>2</td>\n",
              "      <td>-1</td>\n",
              "      <td>-1</td>\n",
              "      <td>-2</td>\n",
              "      <td>-2</td>\n",
              "      <td>3913</td>\n",
              "      <td>3102</td>\n",
              "      <td>689</td>\n",
              "      <td>0</td>\n",
              "      <td>0</td>\n",
              "      <td>0</td>\n",
              "      <td>0</td>\n",
              "      <td>689</td>\n",
              "      <td>0</td>\n",
              "      <td>0</td>\n",
              "      <td>0</td>\n",
              "      <td>0</td>\n",
              "      <td>1</td>\n",
              "    </tr>\n",
              "    <tr>\n",
              "      <th>1</th>\n",
              "      <td>2</td>\n",
              "      <td>120000</td>\n",
              "      <td>female</td>\n",
              "      <td>university</td>\n",
              "      <td>2</td>\n",
              "      <td>26</td>\n",
              "      <td>-1</td>\n",
              "      <td>2</td>\n",
              "      <td>0</td>\n",
              "      <td>0</td>\n",
              "      <td>0</td>\n",
              "      <td>2</td>\n",
              "      <td>2682</td>\n",
              "      <td>1725</td>\n",
              "      <td>2682</td>\n",
              "      <td>3272</td>\n",
              "      <td>3455</td>\n",
              "      <td>3261</td>\n",
              "      <td>0</td>\n",
              "      <td>1000</td>\n",
              "      <td>1000</td>\n",
              "      <td>1000</td>\n",
              "      <td>0</td>\n",
              "      <td>2000</td>\n",
              "      <td>1</td>\n",
              "    </tr>\n",
              "    <tr>\n",
              "      <th>2</th>\n",
              "      <td>3</td>\n",
              "      <td>90000</td>\n",
              "      <td>female</td>\n",
              "      <td>university</td>\n",
              "      <td>2</td>\n",
              "      <td>34</td>\n",
              "      <td>0</td>\n",
              "      <td>0</td>\n",
              "      <td>0</td>\n",
              "      <td>0</td>\n",
              "      <td>0</td>\n",
              "      <td>0</td>\n",
              "      <td>29239</td>\n",
              "      <td>14027</td>\n",
              "      <td>13559</td>\n",
              "      <td>14331</td>\n",
              "      <td>14948</td>\n",
              "      <td>15549</td>\n",
              "      <td>1518</td>\n",
              "      <td>1500</td>\n",
              "      <td>1000</td>\n",
              "      <td>1000</td>\n",
              "      <td>1000</td>\n",
              "      <td>5000</td>\n",
              "      <td>0</td>\n",
              "    </tr>\n",
              "    <tr>\n",
              "      <th>3</th>\n",
              "      <td>4</td>\n",
              "      <td>50000</td>\n",
              "      <td>female</td>\n",
              "      <td>university</td>\n",
              "      <td>1</td>\n",
              "      <td>37</td>\n",
              "      <td>0</td>\n",
              "      <td>0</td>\n",
              "      <td>0</td>\n",
              "      <td>0</td>\n",
              "      <td>0</td>\n",
              "      <td>0</td>\n",
              "      <td>46990</td>\n",
              "      <td>48233</td>\n",
              "      <td>49291</td>\n",
              "      <td>28314</td>\n",
              "      <td>28959</td>\n",
              "      <td>29547</td>\n",
              "      <td>2000</td>\n",
              "      <td>2019</td>\n",
              "      <td>1200</td>\n",
              "      <td>1100</td>\n",
              "      <td>1069</td>\n",
              "      <td>1000</td>\n",
              "      <td>0</td>\n",
              "    </tr>\n",
              "    <tr>\n",
              "      <th>4</th>\n",
              "      <td>5</td>\n",
              "      <td>50000</td>\n",
              "      <td>male</td>\n",
              "      <td>university</td>\n",
              "      <td>1</td>\n",
              "      <td>57</td>\n",
              "      <td>-1</td>\n",
              "      <td>0</td>\n",
              "      <td>-1</td>\n",
              "      <td>0</td>\n",
              "      <td>0</td>\n",
              "      <td>0</td>\n",
              "      <td>8617</td>\n",
              "      <td>5670</td>\n",
              "      <td>35835</td>\n",
              "      <td>20940</td>\n",
              "      <td>19146</td>\n",
              "      <td>19131</td>\n",
              "      <td>2000</td>\n",
              "      <td>36681</td>\n",
              "      <td>10000</td>\n",
              "      <td>9000</td>\n",
              "      <td>689</td>\n",
              "      <td>679</td>\n",
              "      <td>0</td>\n",
              "    </tr>\n",
              "  </tbody>\n",
              "</table>\n",
              "</div>"
            ],
            "text/plain": [
              "   ID  LIMIT_BAL     SEX   EDUCATION  ...  PAY_AMT4  PAY_AMT5  PAY_AMT6  DEFAULT\n",
              "0   1      20000  female  university  ...         0         0         0        1\n",
              "1   2     120000  female  university  ...      1000         0      2000        1\n",
              "2   3      90000  female  university  ...      1000      1000      5000        0\n",
              "3   4      50000  female  university  ...      1100      1069      1000        0\n",
              "4   5      50000    male  university  ...      9000       689       679        0\n",
              "\n",
              "[5 rows x 25 columns]"
            ]
          },
          "metadata": {
            "tags": []
          },
          "execution_count": 176
        }
      ]
    },
    {
      "cell_type": "code",
      "metadata": {
        "colab": {
          "base_uri": "https://localhost:8080/",
          "height": 224
        },
        "id": "g-Dsd0ru7_yV",
        "outputId": "c2e3ef81-5f29-4fa7-e16f-c7104843d559"
      },
      "source": [
        "# Map the data:\n",
        "credit['SEX'] = credit['SEX'].map({'female': 1, 'male': 0})\n",
        "credit['EDUCATION'] = credit['EDUCATION'].map({'graduate school' : 1, 'university' : 2, 'high school' : 3, 'others' : 0})\n",
        "credit.head()"
      ],
      "execution_count": 160,
      "outputs": [
        {
          "output_type": "execute_result",
          "data": {
            "text/html": [
              "<div>\n",
              "<style scoped>\n",
              "    .dataframe tbody tr th:only-of-type {\n",
              "        vertical-align: middle;\n",
              "    }\n",
              "\n",
              "    .dataframe tbody tr th {\n",
              "        vertical-align: top;\n",
              "    }\n",
              "\n",
              "    .dataframe thead th {\n",
              "        text-align: right;\n",
              "    }\n",
              "</style>\n",
              "<table border=\"1\" class=\"dataframe\">\n",
              "  <thead>\n",
              "    <tr style=\"text-align: right;\">\n",
              "      <th></th>\n",
              "      <th>ID</th>\n",
              "      <th>LIMIT_BAL</th>\n",
              "      <th>SEX</th>\n",
              "      <th>EDUCATION</th>\n",
              "      <th>MARRIAGE</th>\n",
              "      <th>AGE</th>\n",
              "      <th>PAY_0</th>\n",
              "      <th>PAY_2</th>\n",
              "      <th>PAY_3</th>\n",
              "      <th>PAY_4</th>\n",
              "      <th>PAY_5</th>\n",
              "      <th>PAY_6</th>\n",
              "      <th>BILL_AMT1</th>\n",
              "      <th>BILL_AMT2</th>\n",
              "      <th>BILL_AMT3</th>\n",
              "      <th>BILL_AMT4</th>\n",
              "      <th>BILL_AMT5</th>\n",
              "      <th>BILL_AMT6</th>\n",
              "      <th>PAY_AMT1</th>\n",
              "      <th>PAY_AMT2</th>\n",
              "      <th>PAY_AMT3</th>\n",
              "      <th>PAY_AMT4</th>\n",
              "      <th>PAY_AMT5</th>\n",
              "      <th>PAY_AMT6</th>\n",
              "      <th>DEFAULT</th>\n",
              "    </tr>\n",
              "  </thead>\n",
              "  <tbody>\n",
              "    <tr>\n",
              "      <th>0</th>\n",
              "      <td>1</td>\n",
              "      <td>20000</td>\n",
              "      <td>1</td>\n",
              "      <td>2.0</td>\n",
              "      <td>1</td>\n",
              "      <td>24</td>\n",
              "      <td>2</td>\n",
              "      <td>2</td>\n",
              "      <td>-1</td>\n",
              "      <td>-1</td>\n",
              "      <td>-2</td>\n",
              "      <td>-2</td>\n",
              "      <td>3913</td>\n",
              "      <td>3102</td>\n",
              "      <td>689</td>\n",
              "      <td>0</td>\n",
              "      <td>0</td>\n",
              "      <td>0</td>\n",
              "      <td>0</td>\n",
              "      <td>689</td>\n",
              "      <td>0</td>\n",
              "      <td>0</td>\n",
              "      <td>0</td>\n",
              "      <td>0</td>\n",
              "      <td>0</td>\n",
              "    </tr>\n",
              "    <tr>\n",
              "      <th>1</th>\n",
              "      <td>2</td>\n",
              "      <td>120000</td>\n",
              "      <td>1</td>\n",
              "      <td>2.0</td>\n",
              "      <td>2</td>\n",
              "      <td>26</td>\n",
              "      <td>-1</td>\n",
              "      <td>2</td>\n",
              "      <td>0</td>\n",
              "      <td>0</td>\n",
              "      <td>0</td>\n",
              "      <td>2</td>\n",
              "      <td>2682</td>\n",
              "      <td>1725</td>\n",
              "      <td>2682</td>\n",
              "      <td>3272</td>\n",
              "      <td>3455</td>\n",
              "      <td>3261</td>\n",
              "      <td>0</td>\n",
              "      <td>1000</td>\n",
              "      <td>1000</td>\n",
              "      <td>1000</td>\n",
              "      <td>0</td>\n",
              "      <td>2000</td>\n",
              "      <td>0</td>\n",
              "    </tr>\n",
              "    <tr>\n",
              "      <th>2</th>\n",
              "      <td>3</td>\n",
              "      <td>90000</td>\n",
              "      <td>1</td>\n",
              "      <td>2.0</td>\n",
              "      <td>2</td>\n",
              "      <td>34</td>\n",
              "      <td>0</td>\n",
              "      <td>0</td>\n",
              "      <td>0</td>\n",
              "      <td>0</td>\n",
              "      <td>0</td>\n",
              "      <td>0</td>\n",
              "      <td>29239</td>\n",
              "      <td>14027</td>\n",
              "      <td>13559</td>\n",
              "      <td>14331</td>\n",
              "      <td>14948</td>\n",
              "      <td>15549</td>\n",
              "      <td>1518</td>\n",
              "      <td>1500</td>\n",
              "      <td>1000</td>\n",
              "      <td>1000</td>\n",
              "      <td>1000</td>\n",
              "      <td>5000</td>\n",
              "      <td>1</td>\n",
              "    </tr>\n",
              "    <tr>\n",
              "      <th>3</th>\n",
              "      <td>4</td>\n",
              "      <td>50000</td>\n",
              "      <td>1</td>\n",
              "      <td>2.0</td>\n",
              "      <td>1</td>\n",
              "      <td>37</td>\n",
              "      <td>0</td>\n",
              "      <td>0</td>\n",
              "      <td>0</td>\n",
              "      <td>0</td>\n",
              "      <td>0</td>\n",
              "      <td>0</td>\n",
              "      <td>46990</td>\n",
              "      <td>48233</td>\n",
              "      <td>49291</td>\n",
              "      <td>28314</td>\n",
              "      <td>28959</td>\n",
              "      <td>29547</td>\n",
              "      <td>2000</td>\n",
              "      <td>2019</td>\n",
              "      <td>1200</td>\n",
              "      <td>1100</td>\n",
              "      <td>1069</td>\n",
              "      <td>1000</td>\n",
              "      <td>1</td>\n",
              "    </tr>\n",
              "    <tr>\n",
              "      <th>4</th>\n",
              "      <td>5</td>\n",
              "      <td>50000</td>\n",
              "      <td>0</td>\n",
              "      <td>2.0</td>\n",
              "      <td>1</td>\n",
              "      <td>57</td>\n",
              "      <td>-1</td>\n",
              "      <td>0</td>\n",
              "      <td>-1</td>\n",
              "      <td>0</td>\n",
              "      <td>0</td>\n",
              "      <td>0</td>\n",
              "      <td>8617</td>\n",
              "      <td>5670</td>\n",
              "      <td>35835</td>\n",
              "      <td>20940</td>\n",
              "      <td>19146</td>\n",
              "      <td>19131</td>\n",
              "      <td>2000</td>\n",
              "      <td>36681</td>\n",
              "      <td>10000</td>\n",
              "      <td>9000</td>\n",
              "      <td>689</td>\n",
              "      <td>679</td>\n",
              "      <td>1</td>\n",
              "    </tr>\n",
              "  </tbody>\n",
              "</table>\n",
              "</div>"
            ],
            "text/plain": [
              "   ID  LIMIT_BAL  SEX  EDUCATION  ...  PAY_AMT4  PAY_AMT5  PAY_AMT6  DEFAULT\n",
              "0   1      20000    1        2.0  ...         0         0         0        0\n",
              "1   2     120000    1        2.0  ...      1000         0      2000        0\n",
              "2   3      90000    1        2.0  ...      1000      1000      5000        1\n",
              "3   4      50000    1        2.0  ...      1100      1069      1000        1\n",
              "4   5      50000    0        2.0  ...      9000       689       679        1\n",
              "\n",
              "[5 rows x 25 columns]"
            ]
          },
          "metadata": {
            "tags": []
          },
          "execution_count": 160
        }
      ]
    },
    {
      "cell_type": "code",
      "metadata": {
        "colab": {
          "base_uri": "https://localhost:8080/"
        },
        "id": "fLfc40Oh8byM",
        "outputId": "5f49b9f3-d953-4466-fbba-787d20d1bcb1"
      },
      "source": [
        "credit['DEFAULT'].value_counts() # 0: not default, 1: default"
      ],
      "execution_count": 161,
      "outputs": [
        {
          "output_type": "execute_result",
          "data": {
            "text/plain": [
              "1    23364\n",
              "0     6636\n",
              "Name: DEFAULT, dtype: int64"
            ]
          },
          "metadata": {
            "tags": []
          },
          "execution_count": 161
        }
      ]
    },
    {
      "cell_type": "code",
      "metadata": {
        "colab": {
          "base_uri": "https://localhost:8080/"
        },
        "id": "D1FBLea58X-h",
        "outputId": "701269a2-08ce-43eb-b94e-5556bcbd262e"
      },
      "source": [
        "credit.info()"
      ],
      "execution_count": 162,
      "outputs": [
        {
          "output_type": "stream",
          "text": [
            "<class 'pandas.core.frame.DataFrame'>\n",
            "RangeIndex: 30000 entries, 0 to 29999\n",
            "Data columns (total 25 columns):\n",
            " #   Column     Non-Null Count  Dtype  \n",
            "---  ------     --------------  -----  \n",
            " 0   ID         30000 non-null  int64  \n",
            " 1   LIMIT_BAL  30000 non-null  int64  \n",
            " 2   SEX        30000 non-null  int64  \n",
            " 3   EDUCATION  29532 non-null  float64\n",
            " 4   MARRIAGE   30000 non-null  int64  \n",
            " 5   AGE        30000 non-null  int64  \n",
            " 6   PAY_0      30000 non-null  int64  \n",
            " 7   PAY_2      30000 non-null  int64  \n",
            " 8   PAY_3      30000 non-null  int64  \n",
            " 9   PAY_4      30000 non-null  int64  \n",
            " 10  PAY_5      30000 non-null  int64  \n",
            " 11  PAY_6      30000 non-null  int64  \n",
            " 12  BILL_AMT1  30000 non-null  int64  \n",
            " 13  BILL_AMT2  30000 non-null  int64  \n",
            " 14  BILL_AMT3  30000 non-null  int64  \n",
            " 15  BILL_AMT4  30000 non-null  int64  \n",
            " 16  BILL_AMT5  30000 non-null  int64  \n",
            " 17  BILL_AMT6  30000 non-null  int64  \n",
            " 18  PAY_AMT1   30000 non-null  int64  \n",
            " 19  PAY_AMT2   30000 non-null  int64  \n",
            " 20  PAY_AMT3   30000 non-null  int64  \n",
            " 21  PAY_AMT4   30000 non-null  int64  \n",
            " 22  PAY_AMT5   30000 non-null  int64  \n",
            " 23  PAY_AMT6   30000 non-null  int64  \n",
            " 24  DEFAULT    30000 non-null  uint8  \n",
            "dtypes: float64(1), int64(23), uint8(1)\n",
            "memory usage: 5.5 MB\n"
          ],
          "name": "stdout"
        }
      ]
    },
    {
      "cell_type": "markdown",
      "metadata": {
        "id": "J2SeEWyS9QXW"
      },
      "source": [
        "All data has been converted to numeric. Here are some notes for changed data:\n",
        "\n",
        "*   **SEX** - 'female': 1, 'male': 0\n",
        "*   **DEFAULT** - 'default': 1, 'not default': 0\n",
        "*   **EDUCATION'** - 'graduate school' : 1, 'university' : 2, 'high school' : 3, 'others' : 0\n"
      ]
    },
    {
      "cell_type": "markdown",
      "metadata": {
        "id": "LirI85mk5u4_"
      },
      "source": [
        "# EDA"
      ]
    },
    {
      "cell_type": "markdown",
      "metadata": {
        "id": "b_P2lLz9F57N"
      },
      "source": [
        "## Practice"
      ]
    },
    {
      "cell_type": "code",
      "metadata": {
        "colab": {
          "base_uri": "https://localhost:8080/"
        },
        "id": "UOexoFKz5qjl",
        "outputId": "89a7a67f-a8f3-4675-b0bb-f2d03dff3ac2"
      },
      "source": [
        "# Column Names:\n",
        "header = credit.columns\n",
        "print(header)"
      ],
      "execution_count": 43,
      "outputs": [
        {
          "output_type": "stream",
          "text": [
            "Index(['ID', 'LIMIT_BAL', 'SEX', 'EDUCATION', 'MARRIAGE', 'AGE', 'PAY_0',\n",
            "       'PAY_2', 'PAY_3', 'PAY_4', 'PAY_5', 'PAY_6', 'BILL_AMT1', 'BILL_AMT2',\n",
            "       'BILL_AMT3', 'BILL_AMT4', 'BILL_AMT5', 'BILL_AMT6', 'PAY_AMT1',\n",
            "       'PAY_AMT2', 'PAY_AMT3', 'PAY_AMT4', 'PAY_AMT5', 'PAY_AMT6', 'DEFAULT'],\n",
            "      dtype='object')\n"
          ],
          "name": "stdout"
        }
      ]
    },
    {
      "cell_type": "code",
      "metadata": {
        "colab": {
          "base_uri": "https://localhost:8080/",
          "height": 363
        },
        "id": "akDjMg9N-z--",
        "outputId": "47be16a9-14fd-4eea-aff4-01d3c6093b55"
      },
      "source": [
        "# Histograms:\n",
        "sns.set_style('whitegrid')\n",
        "plt.hist(credit['LIMIT_BAL'],bins=10)"
      ],
      "execution_count": 44,
      "outputs": [
        {
          "output_type": "execute_result",
          "data": {
            "text/plain": [
              "(array([1.2498e+04, 7.8800e+03, 5.0590e+03, 2.7590e+03, 1.5980e+03,\n",
              "        1.2700e+02, 5.6000e+01, 2.2000e+01, 0.0000e+00, 1.0000e+00]),\n",
              " array([  10000.,  109000.,  208000.,  307000.,  406000.,  505000.,\n",
              "         604000.,  703000.,  802000.,  901000., 1000000.]),\n",
              " <a list of 10 Patch objects>)"
            ]
          },
          "metadata": {
            "tags": []
          },
          "execution_count": 44
        },
        {
          "output_type": "display_data",
          "data": {
            "image/png": "[encoded data removed]",
            "text/plain": [
              "<Figure size 432x288 with 1 Axes>"
            ]
          },
          "metadata": {
            "tags": []
          }
        }
      ]
    },
    {
      "cell_type": "code",
      "metadata": {
        "colab": {
          "base_uri": "https://localhost:8080/",
          "height": 293
        },
        "id": "DxWheJnj_ECI",
        "outputId": "3098e031-c239-4703-ceb2-a72cd510124d"
      },
      "source": [
        "# Line Plots:\n",
        "plt.plot(credit['LIMIT_BAL'])"
      ],
      "execution_count": 45,
      "outputs": [
        {
          "output_type": "execute_result",
          "data": {
            "text/plain": [
              "[<matplotlib.lines.Line2D at 0x7fa6dd6a8310>]"
            ]
          },
          "metadata": {
            "tags": []
          },
          "execution_count": 45
        },
        {
          "output_type": "display_data",
          "data": {
            "image/png": "[encoded data removed]",
            "text/plain": [
              "<Figure size 432x288 with 1 Axes>"
            ]
          },
          "metadata": {
            "tags": []
          }
        }
      ]
    },
    {
      "cell_type": "code",
      "metadata": {
        "colab": {
          "base_uri": "https://localhost:8080/",
          "height": 351
        },
        "id": "oY0VG9X2__Cd",
        "outputId": "87160806-16cb-47b8-d8bd-d1529a9f6f2a"
      },
      "source": [
        "# Scatter Plots:\n",
        "x = credit['PAY_0']\n",
        "y = credit['PAY_2']\n",
        "sns.scatterplot(x,y)"
      ],
      "execution_count": 46,
      "outputs": [
        {
          "output_type": "stream",
          "text": [
            "/usr/local/lib/python3.7/dist-packages/seaborn/_decorators.py:43: FutureWarning: Pass the following variables as keyword args: x, y. From version 0.12, the only valid positional argument will be `data`, and passing other arguments without an explicit keyword will result in an error or misinterpretation.\n",
            "  FutureWarning\n"
          ],
          "name": "stderr"
        },
        {
          "output_type": "execute_result",
          "data": {
            "text/plain": [
              "<matplotlib.axes._subplots.AxesSubplot at 0x7fa6dd750310>"
            ]
          },
          "metadata": {
            "tags": []
          },
          "execution_count": 46
        },
        {
          "output_type": "display_data",
          "data": {
            "image/png": "[encoded data removed]",
            "text/plain": [
              "<Figure size 432x288 with 1 Axes>"
            ]
          },
          "metadata": {
            "tags": []
          }
        }
      ]
    },
    {
      "cell_type": "code",
      "metadata": {
        "colab": {
          "base_uri": "https://localhost:8080/",
          "height": 412
        },
        "id": "Lw4Gjtr3AVKz",
        "outputId": "8e0c233b-973e-42e0-84c4-51c68d0f5de6"
      },
      "source": [
        "# Boxplot:\n",
        "plt.boxplot(credit['BILL_AMT1'],0,'gD')"
      ],
      "execution_count": 145,
      "outputs": [
        {
          "output_type": "execute_result",
          "data": {
            "text/plain": [
              "{'boxes': [<matplotlib.lines.Line2D at 0x7fa6d4305710>],\n",
              " 'caps': [<matplotlib.lines.Line2D at 0x7fa6d4308790>,\n",
              "  <matplotlib.lines.Line2D at 0x7fa6d4308cd0>],\n",
              " 'fliers': [<matplotlib.lines.Line2D at 0x7fa6d43107d0>],\n",
              " 'means': [],\n",
              " 'medians': [<matplotlib.lines.Line2D at 0x7fa6d4310290>],\n",
              " 'whiskers': [<matplotlib.lines.Line2D at 0x7fa6d4305cd0>,\n",
              "  <matplotlib.lines.Line2D at 0x7fa6d4308250>]}"
            ]
          },
          "metadata": {
            "tags": []
          },
          "execution_count": 145
        },
        {
          "output_type": "display_data",
          "data": {
            "image/png": "[encoded data removed]",
            "text/plain": [
              "<Figure size 432x288 with 1 Axes>"
            ]
          },
          "metadata": {
            "tags": []
          }
        }
      ]
    },
    {
      "cell_type": "code",
      "metadata": {
        "colab": {
          "base_uri": "https://localhost:8080/",
          "height": 844
        },
        "id": "Wim16uy_CKF-",
        "outputId": "03008e6c-b4a5-4cfa-b845-290e9c22ba39"
      },
      "source": [
        "# Correlation:\n",
        "corrMat = credit.corr()\n",
        "corrMat"
      ],
      "execution_count": 48,
      "outputs": [
        {
          "output_type": "execute_result",
          "data": {
            "text/html": [
              "<div>\n",
              "<style scoped>\n",
              "    .dataframe tbody tr th:only-of-type {\n",
              "        vertical-align: middle;\n",
              "    }\n",
              "\n",
              "    .dataframe tbody tr th {\n",
              "        vertical-align: top;\n",
              "    }\n",
              "\n",
              "    .dataframe thead th {\n",
              "        text-align: right;\n",
              "    }\n",
              "</style>\n",
              "<table border=\"1\" class=\"dataframe\">\n",
              "  <thead>\n",
              "    <tr style=\"text-align: right;\">\n",
              "      <th></th>\n",
              "      <th>ID</th>\n",
              "      <th>LIMIT_BAL</th>\n",
              "      <th>SEX</th>\n",
              "      <th>EDUCATION</th>\n",
              "      <th>MARRIAGE</th>\n",
              "      <th>AGE</th>\n",
              "      <th>PAY_0</th>\n",
              "      <th>PAY_2</th>\n",
              "      <th>PAY_3</th>\n",
              "      <th>PAY_4</th>\n",
              "      <th>PAY_5</th>\n",
              "      <th>PAY_6</th>\n",
              "      <th>BILL_AMT1</th>\n",
              "      <th>BILL_AMT2</th>\n",
              "      <th>BILL_AMT3</th>\n",
              "      <th>BILL_AMT4</th>\n",
              "      <th>BILL_AMT5</th>\n",
              "      <th>BILL_AMT6</th>\n",
              "      <th>PAY_AMT1</th>\n",
              "      <th>PAY_AMT2</th>\n",
              "      <th>PAY_AMT3</th>\n",
              "      <th>PAY_AMT4</th>\n",
              "      <th>PAY_AMT5</th>\n",
              "      <th>PAY_AMT6</th>\n",
              "      <th>DEFAULT</th>\n",
              "    </tr>\n",
              "  </thead>\n",
              "  <tbody>\n",
              "    <tr>\n",
              "      <th>ID</th>\n",
              "      <td>1.000000</td>\n",
              "      <td>0.026179</td>\n",
              "      <td>0.018497</td>\n",
              "      <td>0.026088</td>\n",
              "      <td>-0.029079</td>\n",
              "      <td>0.018678</td>\n",
              "      <td>-0.030575</td>\n",
              "      <td>-0.011215</td>\n",
              "      <td>-0.018494</td>\n",
              "      <td>-0.002735</td>\n",
              "      <td>-0.022199</td>\n",
              "      <td>-0.020270</td>\n",
              "      <td>0.019389</td>\n",
              "      <td>0.017982</td>\n",
              "      <td>0.024354</td>\n",
              "      <td>0.040351</td>\n",
              "      <td>0.016705</td>\n",
              "      <td>0.016730</td>\n",
              "      <td>0.009742</td>\n",
              "      <td>0.008406</td>\n",
              "      <td>0.039151</td>\n",
              "      <td>0.007793</td>\n",
              "      <td>0.000652</td>\n",
              "      <td>0.003000</td>\n",
              "      <td>0.013952</td>\n",
              "    </tr>\n",
              "    <tr>\n",
              "      <th>LIMIT_BAL</th>\n",
              "      <td>0.026179</td>\n",
              "      <td>1.000000</td>\n",
              "      <td>0.024755</td>\n",
              "      <td>-0.255138</td>\n",
              "      <td>-0.108139</td>\n",
              "      <td>0.144713</td>\n",
              "      <td>-0.271214</td>\n",
              "      <td>-0.296382</td>\n",
              "      <td>-0.286123</td>\n",
              "      <td>-0.267460</td>\n",
              "      <td>-0.249411</td>\n",
              "      <td>-0.235195</td>\n",
              "      <td>0.285430</td>\n",
              "      <td>0.278314</td>\n",
              "      <td>0.283236</td>\n",
              "      <td>0.293988</td>\n",
              "      <td>0.295562</td>\n",
              "      <td>0.290389</td>\n",
              "      <td>0.195236</td>\n",
              "      <td>0.178408</td>\n",
              "      <td>0.210167</td>\n",
              "      <td>0.203242</td>\n",
              "      <td>0.217202</td>\n",
              "      <td>0.219595</td>\n",
              "      <td>0.153520</td>\n",
              "    </tr>\n",
              "    <tr>\n",
              "      <th>SEX</th>\n",
              "      <td>0.018497</td>\n",
              "      <td>0.024755</td>\n",
              "      <td>1.000000</td>\n",
              "      <td>0.011393</td>\n",
              "      <td>-0.031389</td>\n",
              "      <td>-0.090874</td>\n",
              "      <td>-0.057643</td>\n",
              "      <td>-0.070771</td>\n",
              "      <td>-0.066096</td>\n",
              "      <td>-0.060173</td>\n",
              "      <td>-0.055064</td>\n",
              "      <td>-0.044008</td>\n",
              "      <td>-0.033642</td>\n",
              "      <td>-0.031183</td>\n",
              "      <td>-0.024563</td>\n",
              "      <td>-0.021880</td>\n",
              "      <td>-0.017005</td>\n",
              "      <td>-0.016733</td>\n",
              "      <td>-0.000242</td>\n",
              "      <td>-0.001391</td>\n",
              "      <td>-0.008597</td>\n",
              "      <td>-0.002229</td>\n",
              "      <td>-0.001667</td>\n",
              "      <td>-0.002766</td>\n",
              "      <td>0.039961</td>\n",
              "    </tr>\n",
              "    <tr>\n",
              "      <th>EDUCATION</th>\n",
              "      <td>0.026088</td>\n",
              "      <td>-0.255138</td>\n",
              "      <td>0.011393</td>\n",
              "      <td>1.000000</td>\n",
              "      <td>-0.158187</td>\n",
              "      <td>0.193978</td>\n",
              "      <td>0.131623</td>\n",
              "      <td>0.153079</td>\n",
              "      <td>0.145646</td>\n",
              "      <td>0.137940</td>\n",
              "      <td>0.123666</td>\n",
              "      <td>0.110172</td>\n",
              "      <td>0.003621</td>\n",
              "      <td>0.000816</td>\n",
              "      <td>-0.004183</td>\n",
              "      <td>-0.014949</td>\n",
              "      <td>-0.018163</td>\n",
              "      <td>-0.015053</td>\n",
              "      <td>-0.046129</td>\n",
              "      <td>-0.040149</td>\n",
              "      <td>-0.057041</td>\n",
              "      <td>-0.044608</td>\n",
              "      <td>-0.051931</td>\n",
              "      <td>-0.054350</td>\n",
              "      <td>-0.054477</td>\n",
              "    </tr>\n",
              "    <tr>\n",
              "      <th>MARRIAGE</th>\n",
              "      <td>-0.029079</td>\n",
              "      <td>-0.108139</td>\n",
              "      <td>-0.031389</td>\n",
              "      <td>-0.158187</td>\n",
              "      <td>1.000000</td>\n",
              "      <td>-0.414170</td>\n",
              "      <td>0.019917</td>\n",
              "      <td>0.024199</td>\n",
              "      <td>0.032688</td>\n",
              "      <td>0.033122</td>\n",
              "      <td>0.035629</td>\n",
              "      <td>0.034345</td>\n",
              "      <td>-0.023472</td>\n",
              "      <td>-0.021602</td>\n",
              "      <td>-0.024909</td>\n",
              "      <td>-0.023344</td>\n",
              "      <td>-0.025393</td>\n",
              "      <td>-0.021207</td>\n",
              "      <td>-0.005979</td>\n",
              "      <td>-0.008093</td>\n",
              "      <td>-0.003541</td>\n",
              "      <td>-0.012659</td>\n",
              "      <td>-0.001205</td>\n",
              "      <td>-0.006641</td>\n",
              "      <td>0.024339</td>\n",
              "    </tr>\n",
              "    <tr>\n",
              "      <th>AGE</th>\n",
              "      <td>0.018678</td>\n",
              "      <td>0.144713</td>\n",
              "      <td>-0.090874</td>\n",
              "      <td>0.193978</td>\n",
              "      <td>-0.414170</td>\n",
              "      <td>1.000000</td>\n",
              "      <td>-0.039447</td>\n",
              "      <td>-0.050148</td>\n",
              "      <td>-0.053048</td>\n",
              "      <td>-0.049722</td>\n",
              "      <td>-0.053826</td>\n",
              "      <td>-0.048773</td>\n",
              "      <td>0.056239</td>\n",
              "      <td>0.054283</td>\n",
              "      <td>0.053710</td>\n",
              "      <td>0.051353</td>\n",
              "      <td>0.049345</td>\n",
              "      <td>0.047613</td>\n",
              "      <td>0.026147</td>\n",
              "      <td>0.021785</td>\n",
              "      <td>0.029247</td>\n",
              "      <td>0.021379</td>\n",
              "      <td>0.022850</td>\n",
              "      <td>0.019478</td>\n",
              "      <td>-0.013890</td>\n",
              "    </tr>\n",
              "    <tr>\n",
              "      <th>PAY_0</th>\n",
              "      <td>-0.030575</td>\n",
              "      <td>-0.271214</td>\n",
              "      <td>-0.057643</td>\n",
              "      <td>0.131623</td>\n",
              "      <td>0.019917</td>\n",
              "      <td>-0.039447</td>\n",
              "      <td>1.000000</td>\n",
              "      <td>0.672164</td>\n",
              "      <td>0.574245</td>\n",
              "      <td>0.538841</td>\n",
              "      <td>0.509426</td>\n",
              "      <td>0.474553</td>\n",
              "      <td>0.187068</td>\n",
              "      <td>0.189859</td>\n",
              "      <td>0.179785</td>\n",
              "      <td>0.179125</td>\n",
              "      <td>0.180635</td>\n",
              "      <td>0.176980</td>\n",
              "      <td>-0.079269</td>\n",
              "      <td>-0.070101</td>\n",
              "      <td>-0.070561</td>\n",
              "      <td>-0.064005</td>\n",
              "      <td>-0.058190</td>\n",
              "      <td>-0.058673</td>\n",
              "      <td>-0.324794</td>\n",
              "    </tr>\n",
              "    <tr>\n",
              "      <th>PAY_2</th>\n",
              "      <td>-0.011215</td>\n",
              "      <td>-0.296382</td>\n",
              "      <td>-0.070771</td>\n",
              "      <td>0.153079</td>\n",
              "      <td>0.024199</td>\n",
              "      <td>-0.050148</td>\n",
              "      <td>0.672164</td>\n",
              "      <td>1.000000</td>\n",
              "      <td>0.766552</td>\n",
              "      <td>0.662067</td>\n",
              "      <td>0.622780</td>\n",
              "      <td>0.575501</td>\n",
              "      <td>0.234887</td>\n",
              "      <td>0.235257</td>\n",
              "      <td>0.224146</td>\n",
              "      <td>0.222237</td>\n",
              "      <td>0.221348</td>\n",
              "      <td>0.219403</td>\n",
              "      <td>-0.080701</td>\n",
              "      <td>-0.058990</td>\n",
              "      <td>-0.055901</td>\n",
              "      <td>-0.046858</td>\n",
              "      <td>-0.037093</td>\n",
              "      <td>-0.036500</td>\n",
              "      <td>-0.263551</td>\n",
              "    </tr>\n",
              "    <tr>\n",
              "      <th>PAY_3</th>\n",
              "      <td>-0.018494</td>\n",
              "      <td>-0.286123</td>\n",
              "      <td>-0.066096</td>\n",
              "      <td>0.145646</td>\n",
              "      <td>0.032688</td>\n",
              "      <td>-0.053048</td>\n",
              "      <td>0.574245</td>\n",
              "      <td>0.766552</td>\n",
              "      <td>1.000000</td>\n",
              "      <td>0.777359</td>\n",
              "      <td>0.686775</td>\n",
              "      <td>0.632684</td>\n",
              "      <td>0.208473</td>\n",
              "      <td>0.237295</td>\n",
              "      <td>0.227494</td>\n",
              "      <td>0.227202</td>\n",
              "      <td>0.225145</td>\n",
              "      <td>0.222327</td>\n",
              "      <td>0.001295</td>\n",
              "      <td>-0.066793</td>\n",
              "      <td>-0.053311</td>\n",
              "      <td>-0.046067</td>\n",
              "      <td>-0.035863</td>\n",
              "      <td>-0.035861</td>\n",
              "      <td>-0.235253</td>\n",
              "    </tr>\n",
              "    <tr>\n",
              "      <th>PAY_4</th>\n",
              "      <td>-0.002735</td>\n",
              "      <td>-0.267460</td>\n",
              "      <td>-0.060173</td>\n",
              "      <td>0.137940</td>\n",
              "      <td>0.033122</td>\n",
              "      <td>-0.049722</td>\n",
              "      <td>0.538841</td>\n",
              "      <td>0.662067</td>\n",
              "      <td>0.777359</td>\n",
              "      <td>1.000000</td>\n",
              "      <td>0.819835</td>\n",
              "      <td>0.716449</td>\n",
              "      <td>0.202812</td>\n",
              "      <td>0.225816</td>\n",
              "      <td>0.244983</td>\n",
              "      <td>0.245917</td>\n",
              "      <td>0.242902</td>\n",
              "      <td>0.239154</td>\n",
              "      <td>-0.009362</td>\n",
              "      <td>-0.001944</td>\n",
              "      <td>-0.069235</td>\n",
              "      <td>-0.043461</td>\n",
              "      <td>-0.033590</td>\n",
              "      <td>-0.026565</td>\n",
              "      <td>-0.216614</td>\n",
              "    </tr>\n",
              "    <tr>\n",
              "      <th>PAY_5</th>\n",
              "      <td>-0.022199</td>\n",
              "      <td>-0.249411</td>\n",
              "      <td>-0.055064</td>\n",
              "      <td>0.123666</td>\n",
              "      <td>0.035629</td>\n",
              "      <td>-0.053826</td>\n",
              "      <td>0.509426</td>\n",
              "      <td>0.622780</td>\n",
              "      <td>0.686775</td>\n",
              "      <td>0.819835</td>\n",
              "      <td>1.000000</td>\n",
              "      <td>0.816900</td>\n",
              "      <td>0.206684</td>\n",
              "      <td>0.226913</td>\n",
              "      <td>0.243335</td>\n",
              "      <td>0.271915</td>\n",
              "      <td>0.269783</td>\n",
              "      <td>0.262509</td>\n",
              "      <td>-0.006089</td>\n",
              "      <td>-0.003191</td>\n",
              "      <td>0.009062</td>\n",
              "      <td>-0.058299</td>\n",
              "      <td>-0.033337</td>\n",
              "      <td>-0.023027</td>\n",
              "      <td>-0.204149</td>\n",
              "    </tr>\n",
              "    <tr>\n",
              "      <th>PAY_6</th>\n",
              "      <td>-0.020270</td>\n",
              "      <td>-0.235195</td>\n",
              "      <td>-0.044008</td>\n",
              "      <td>0.110172</td>\n",
              "      <td>0.034345</td>\n",
              "      <td>-0.048773</td>\n",
              "      <td>0.474553</td>\n",
              "      <td>0.575501</td>\n",
              "      <td>0.632684</td>\n",
              "      <td>0.716449</td>\n",
              "      <td>0.816900</td>\n",
              "      <td>1.000000</td>\n",
              "      <td>0.207373</td>\n",
              "      <td>0.226924</td>\n",
              "      <td>0.241181</td>\n",
              "      <td>0.266356</td>\n",
              "      <td>0.290894</td>\n",
              "      <td>0.285091</td>\n",
              "      <td>-0.001496</td>\n",
              "      <td>-0.005223</td>\n",
              "      <td>0.005834</td>\n",
              "      <td>0.019018</td>\n",
              "      <td>-0.046434</td>\n",
              "      <td>-0.025299</td>\n",
              "      <td>-0.186866</td>\n",
              "    </tr>\n",
              "    <tr>\n",
              "      <th>BILL_AMT1</th>\n",
              "      <td>0.019389</td>\n",
              "      <td>0.285430</td>\n",
              "      <td>-0.033642</td>\n",
              "      <td>0.003621</td>\n",
              "      <td>-0.023472</td>\n",
              "      <td>0.056239</td>\n",
              "      <td>0.187068</td>\n",
              "      <td>0.234887</td>\n",
              "      <td>0.208473</td>\n",
              "      <td>0.202812</td>\n",
              "      <td>0.206684</td>\n",
              "      <td>0.207373</td>\n",
              "      <td>1.000000</td>\n",
              "      <td>0.951484</td>\n",
              "      <td>0.892279</td>\n",
              "      <td>0.860272</td>\n",
              "      <td>0.829779</td>\n",
              "      <td>0.802650</td>\n",
              "      <td>0.140277</td>\n",
              "      <td>0.099355</td>\n",
              "      <td>0.156887</td>\n",
              "      <td>0.158303</td>\n",
              "      <td>0.167026</td>\n",
              "      <td>0.179341</td>\n",
              "      <td>0.019644</td>\n",
              "    </tr>\n",
              "    <tr>\n",
              "      <th>BILL_AMT2</th>\n",
              "      <td>0.017982</td>\n",
              "      <td>0.278314</td>\n",
              "      <td>-0.031183</td>\n",
              "      <td>0.000816</td>\n",
              "      <td>-0.021602</td>\n",
              "      <td>0.054283</td>\n",
              "      <td>0.189859</td>\n",
              "      <td>0.235257</td>\n",
              "      <td>0.237295</td>\n",
              "      <td>0.225816</td>\n",
              "      <td>0.226913</td>\n",
              "      <td>0.226924</td>\n",
              "      <td>0.951484</td>\n",
              "      <td>1.000000</td>\n",
              "      <td>0.928326</td>\n",
              "      <td>0.892482</td>\n",
              "      <td>0.859778</td>\n",
              "      <td>0.831594</td>\n",
              "      <td>0.280365</td>\n",
              "      <td>0.100851</td>\n",
              "      <td>0.150718</td>\n",
              "      <td>0.147398</td>\n",
              "      <td>0.157957</td>\n",
              "      <td>0.174256</td>\n",
              "      <td>0.014193</td>\n",
              "    </tr>\n",
              "    <tr>\n",
              "      <th>BILL_AMT3</th>\n",
              "      <td>0.024354</td>\n",
              "      <td>0.283236</td>\n",
              "      <td>-0.024563</td>\n",
              "      <td>-0.004183</td>\n",
              "      <td>-0.024909</td>\n",
              "      <td>0.053710</td>\n",
              "      <td>0.179785</td>\n",
              "      <td>0.224146</td>\n",
              "      <td>0.227494</td>\n",
              "      <td>0.244983</td>\n",
              "      <td>0.243335</td>\n",
              "      <td>0.241181</td>\n",
              "      <td>0.892279</td>\n",
              "      <td>0.928326</td>\n",
              "      <td>1.000000</td>\n",
              "      <td>0.923969</td>\n",
              "      <td>0.883910</td>\n",
              "      <td>0.853320</td>\n",
              "      <td>0.244335</td>\n",
              "      <td>0.316936</td>\n",
              "      <td>0.130011</td>\n",
              "      <td>0.143405</td>\n",
              "      <td>0.179712</td>\n",
              "      <td>0.182326</td>\n",
              "      <td>0.014076</td>\n",
              "    </tr>\n",
              "    <tr>\n",
              "      <th>BILL_AMT4</th>\n",
              "      <td>0.040351</td>\n",
              "      <td>0.293988</td>\n",
              "      <td>-0.021880</td>\n",
              "      <td>-0.014949</td>\n",
              "      <td>-0.023344</td>\n",
              "      <td>0.051353</td>\n",
              "      <td>0.179125</td>\n",
              "      <td>0.222237</td>\n",
              "      <td>0.227202</td>\n",
              "      <td>0.245917</td>\n",
              "      <td>0.271915</td>\n",
              "      <td>0.266356</td>\n",
              "      <td>0.860272</td>\n",
              "      <td>0.892482</td>\n",
              "      <td>0.923969</td>\n",
              "      <td>1.000000</td>\n",
              "      <td>0.940134</td>\n",
              "      <td>0.900941</td>\n",
              "      <td>0.233012</td>\n",
              "      <td>0.207564</td>\n",
              "      <td>0.300023</td>\n",
              "      <td>0.130191</td>\n",
              "      <td>0.160433</td>\n",
              "      <td>0.177637</td>\n",
              "      <td>0.010156</td>\n",
              "    </tr>\n",
              "    <tr>\n",
              "      <th>BILL_AMT5</th>\n",
              "      <td>0.016705</td>\n",
              "      <td>0.295562</td>\n",
              "      <td>-0.017005</td>\n",
              "      <td>-0.018163</td>\n",
              "      <td>-0.025393</td>\n",
              "      <td>0.049345</td>\n",
              "      <td>0.180635</td>\n",
              "      <td>0.221348</td>\n",
              "      <td>0.225145</td>\n",
              "      <td>0.242902</td>\n",
              "      <td>0.269783</td>\n",
              "      <td>0.290894</td>\n",
              "      <td>0.829779</td>\n",
              "      <td>0.859778</td>\n",
              "      <td>0.883910</td>\n",
              "      <td>0.940134</td>\n",
              "      <td>1.000000</td>\n",
              "      <td>0.946197</td>\n",
              "      <td>0.217031</td>\n",
              "      <td>0.181246</td>\n",
              "      <td>0.252305</td>\n",
              "      <td>0.293118</td>\n",
              "      <td>0.141574</td>\n",
              "      <td>0.164184</td>\n",
              "      <td>0.006760</td>\n",
              "    </tr>\n",
              "    <tr>\n",
              "      <th>BILL_AMT6</th>\n",
              "      <td>0.016730</td>\n",
              "      <td>0.290389</td>\n",
              "      <td>-0.016733</td>\n",
              "      <td>-0.015053</td>\n",
              "      <td>-0.021207</td>\n",
              "      <td>0.047613</td>\n",
              "      <td>0.176980</td>\n",
              "      <td>0.219403</td>\n",
              "      <td>0.222327</td>\n",
              "      <td>0.239154</td>\n",
              "      <td>0.262509</td>\n",
              "      <td>0.285091</td>\n",
              "      <td>0.802650</td>\n",
              "      <td>0.831594</td>\n",
              "      <td>0.853320</td>\n",
              "      <td>0.900941</td>\n",
              "      <td>0.946197</td>\n",
              "      <td>1.000000</td>\n",
              "      <td>0.199965</td>\n",
              "      <td>0.172663</td>\n",
              "      <td>0.233770</td>\n",
              "      <td>0.250237</td>\n",
              "      <td>0.307729</td>\n",
              "      <td>0.115494</td>\n",
              "      <td>0.005372</td>\n",
              "    </tr>\n",
              "    <tr>\n",
              "      <th>PAY_AMT1</th>\n",
              "      <td>0.009742</td>\n",
              "      <td>0.195236</td>\n",
              "      <td>-0.000242</td>\n",
              "      <td>-0.046129</td>\n",
              "      <td>-0.005979</td>\n",
              "      <td>0.026147</td>\n",
              "      <td>-0.079269</td>\n",
              "      <td>-0.080701</td>\n",
              "      <td>0.001295</td>\n",
              "      <td>-0.009362</td>\n",
              "      <td>-0.006089</td>\n",
              "      <td>-0.001496</td>\n",
              "      <td>0.140277</td>\n",
              "      <td>0.280365</td>\n",
              "      <td>0.244335</td>\n",
              "      <td>0.233012</td>\n",
              "      <td>0.217031</td>\n",
              "      <td>0.199965</td>\n",
              "      <td>1.000000</td>\n",
              "      <td>0.285576</td>\n",
              "      <td>0.252191</td>\n",
              "      <td>0.199558</td>\n",
              "      <td>0.148459</td>\n",
              "      <td>0.185735</td>\n",
              "      <td>0.072929</td>\n",
              "    </tr>\n",
              "    <tr>\n",
              "      <th>PAY_AMT2</th>\n",
              "      <td>0.008406</td>\n",
              "      <td>0.178408</td>\n",
              "      <td>-0.001391</td>\n",
              "      <td>-0.040149</td>\n",
              "      <td>-0.008093</td>\n",
              "      <td>0.021785</td>\n",
              "      <td>-0.070101</td>\n",
              "      <td>-0.058990</td>\n",
              "      <td>-0.066793</td>\n",
              "      <td>-0.001944</td>\n",
              "      <td>-0.003191</td>\n",
              "      <td>-0.005223</td>\n",
              "      <td>0.099355</td>\n",
              "      <td>0.100851</td>\n",
              "      <td>0.316936</td>\n",
              "      <td>0.207564</td>\n",
              "      <td>0.181246</td>\n",
              "      <td>0.172663</td>\n",
              "      <td>0.285576</td>\n",
              "      <td>1.000000</td>\n",
              "      <td>0.244770</td>\n",
              "      <td>0.180107</td>\n",
              "      <td>0.180908</td>\n",
              "      <td>0.157634</td>\n",
              "      <td>0.058579</td>\n",
              "    </tr>\n",
              "    <tr>\n",
              "      <th>PAY_AMT3</th>\n",
              "      <td>0.039151</td>\n",
              "      <td>0.210167</td>\n",
              "      <td>-0.008597</td>\n",
              "      <td>-0.057041</td>\n",
              "      <td>-0.003541</td>\n",
              "      <td>0.029247</td>\n",
              "      <td>-0.070561</td>\n",
              "      <td>-0.055901</td>\n",
              "      <td>-0.053311</td>\n",
              "      <td>-0.069235</td>\n",
              "      <td>0.009062</td>\n",
              "      <td>0.005834</td>\n",
              "      <td>0.156887</td>\n",
              "      <td>0.150718</td>\n",
              "      <td>0.130011</td>\n",
              "      <td>0.300023</td>\n",
              "      <td>0.252305</td>\n",
              "      <td>0.233770</td>\n",
              "      <td>0.252191</td>\n",
              "      <td>0.244770</td>\n",
              "      <td>1.000000</td>\n",
              "      <td>0.216325</td>\n",
              "      <td>0.159214</td>\n",
              "      <td>0.162740</td>\n",
              "      <td>0.056250</td>\n",
              "    </tr>\n",
              "    <tr>\n",
              "      <th>PAY_AMT4</th>\n",
              "      <td>0.007793</td>\n",
              "      <td>0.203242</td>\n",
              "      <td>-0.002229</td>\n",
              "      <td>-0.044608</td>\n",
              "      <td>-0.012659</td>\n",
              "      <td>0.021379</td>\n",
              "      <td>-0.064005</td>\n",
              "      <td>-0.046858</td>\n",
              "      <td>-0.046067</td>\n",
              "      <td>-0.043461</td>\n",
              "      <td>-0.058299</td>\n",
              "      <td>0.019018</td>\n",
              "      <td>0.158303</td>\n",
              "      <td>0.147398</td>\n",
              "      <td>0.143405</td>\n",
              "      <td>0.130191</td>\n",
              "      <td>0.293118</td>\n",
              "      <td>0.250237</td>\n",
              "      <td>0.199558</td>\n",
              "      <td>0.180107</td>\n",
              "      <td>0.216325</td>\n",
              "      <td>1.000000</td>\n",
              "      <td>0.151830</td>\n",
              "      <td>0.157834</td>\n",
              "      <td>0.056827</td>\n",
              "    </tr>\n",
              "    <tr>\n",
              "      <th>PAY_AMT5</th>\n",
              "      <td>0.000652</td>\n",
              "      <td>0.217202</td>\n",
              "      <td>-0.001667</td>\n",
              "      <td>-0.051931</td>\n",
              "      <td>-0.001205</td>\n",
              "      <td>0.022850</td>\n",
              "      <td>-0.058190</td>\n",
              "      <td>-0.037093</td>\n",
              "      <td>-0.035863</td>\n",
              "      <td>-0.033590</td>\n",
              "      <td>-0.033337</td>\n",
              "      <td>-0.046434</td>\n",
              "      <td>0.167026</td>\n",
              "      <td>0.157957</td>\n",
              "      <td>0.179712</td>\n",
              "      <td>0.160433</td>\n",
              "      <td>0.141574</td>\n",
              "      <td>0.307729</td>\n",
              "      <td>0.148459</td>\n",
              "      <td>0.180908</td>\n",
              "      <td>0.159214</td>\n",
              "      <td>0.151830</td>\n",
              "      <td>1.000000</td>\n",
              "      <td>0.154896</td>\n",
              "      <td>0.055124</td>\n",
              "    </tr>\n",
              "    <tr>\n",
              "      <th>PAY_AMT6</th>\n",
              "      <td>0.003000</td>\n",
              "      <td>0.219595</td>\n",
              "      <td>-0.002766</td>\n",
              "      <td>-0.054350</td>\n",
              "      <td>-0.006641</td>\n",
              "      <td>0.019478</td>\n",
              "      <td>-0.058673</td>\n",
              "      <td>-0.036500</td>\n",
              "      <td>-0.035861</td>\n",
              "      <td>-0.026565</td>\n",
              "      <td>-0.023027</td>\n",
              "      <td>-0.025299</td>\n",
              "      <td>0.179341</td>\n",
              "      <td>0.174256</td>\n",
              "      <td>0.182326</td>\n",
              "      <td>0.177637</td>\n",
              "      <td>0.164184</td>\n",
              "      <td>0.115494</td>\n",
              "      <td>0.185735</td>\n",
              "      <td>0.157634</td>\n",
              "      <td>0.162740</td>\n",
              "      <td>0.157834</td>\n",
              "      <td>0.154896</td>\n",
              "      <td>1.000000</td>\n",
              "      <td>0.053183</td>\n",
              "    </tr>\n",
              "    <tr>\n",
              "      <th>DEFAULT</th>\n",
              "      <td>0.013952</td>\n",
              "      <td>0.153520</td>\n",
              "      <td>0.039961</td>\n",
              "      <td>-0.054477</td>\n",
              "      <td>0.024339</td>\n",
              "      <td>-0.013890</td>\n",
              "      <td>-0.324794</td>\n",
              "      <td>-0.263551</td>\n",
              "      <td>-0.235253</td>\n",
              "      <td>-0.216614</td>\n",
              "      <td>-0.204149</td>\n",
              "      <td>-0.186866</td>\n",
              "      <td>0.019644</td>\n",
              "      <td>0.014193</td>\n",
              "      <td>0.014076</td>\n",
              "      <td>0.010156</td>\n",
              "      <td>0.006760</td>\n",
              "      <td>0.005372</td>\n",
              "      <td>0.072929</td>\n",
              "      <td>0.058579</td>\n",
              "      <td>0.056250</td>\n",
              "      <td>0.056827</td>\n",
              "      <td>0.055124</td>\n",
              "      <td>0.053183</td>\n",
              "      <td>1.000000</td>\n",
              "    </tr>\n",
              "  </tbody>\n",
              "</table>\n",
              "</div>"
            ],
            "text/plain": [
              "                 ID  LIMIT_BAL       SEX  ...  PAY_AMT5  PAY_AMT6   DEFAULT\n",
              "ID         1.000000   0.026179  0.018497  ...  0.000652  0.003000  0.013952\n",
              "LIMIT_BAL  0.026179   1.000000  0.024755  ...  0.217202  0.219595  0.153520\n",
              "SEX        0.018497   0.024755  1.000000  ... -0.001667 -0.002766  0.039961\n",
              "EDUCATION  0.026088  -0.255138  0.011393  ... -0.051931 -0.054350 -0.054477\n",
              "MARRIAGE  -0.029079  -0.108139 -0.031389  ... -0.001205 -0.006641  0.024339\n",
              "AGE        0.018678   0.144713 -0.090874  ...  0.022850  0.019478 -0.013890\n",
              "PAY_0     -0.030575  -0.271214 -0.057643  ... -0.058190 -0.058673 -0.324794\n",
              "PAY_2     -0.011215  -0.296382 -0.070771  ... -0.037093 -0.036500 -0.263551\n",
              "PAY_3     -0.018494  -0.286123 -0.066096  ... -0.035863 -0.035861 -0.235253\n",
              "PAY_4     -0.002735  -0.267460 -0.060173  ... -0.033590 -0.026565 -0.216614\n",
              "PAY_5     -0.022199  -0.249411 -0.055064  ... -0.033337 -0.023027 -0.204149\n",
              "PAY_6     -0.020270  -0.235195 -0.044008  ... -0.046434 -0.025299 -0.186866\n",
              "BILL_AMT1  0.019389   0.285430 -0.033642  ...  0.167026  0.179341  0.019644\n",
              "BILL_AMT2  0.017982   0.278314 -0.031183  ...  0.157957  0.174256  0.014193\n",
              "BILL_AMT3  0.024354   0.283236 -0.024563  ...  0.179712  0.182326  0.014076\n",
              "BILL_AMT4  0.040351   0.293988 -0.021880  ...  0.160433  0.177637  0.010156\n",
              "BILL_AMT5  0.016705   0.295562 -0.017005  ...  0.141574  0.164184  0.006760\n",
              "BILL_AMT6  0.016730   0.290389 -0.016733  ...  0.307729  0.115494  0.005372\n",
              "PAY_AMT1   0.009742   0.195236 -0.000242  ...  0.148459  0.185735  0.072929\n",
              "PAY_AMT2   0.008406   0.178408 -0.001391  ...  0.180908  0.157634  0.058579\n",
              "PAY_AMT3   0.039151   0.210167 -0.008597  ...  0.159214  0.162740  0.056250\n",
              "PAY_AMT4   0.007793   0.203242 -0.002229  ...  0.151830  0.157834  0.056827\n",
              "PAY_AMT5   0.000652   0.217202 -0.001667  ...  1.000000  0.154896  0.055124\n",
              "PAY_AMT6   0.003000   0.219595 -0.002766  ...  0.154896  1.000000  0.053183\n",
              "DEFAULT    0.013952   0.153520  0.039961  ...  0.055124  0.053183  1.000000\n",
              "\n",
              "[25 rows x 25 columns]"
            ]
          },
          "metadata": {
            "tags": []
          },
          "execution_count": 48
        }
      ]
    },
    {
      "cell_type": "code",
      "metadata": {
        "colab": {
          "base_uri": "https://localhost:8080/",
          "height": 552
        },
        "id": "jXhi96EUDHrb",
        "outputId": "39d6cdb9-73ec-4226-f3a5-d9993b1846c5"
      },
      "source": [
        "plt.figure(figsize=(10,8))\n",
        "sns.heatmap(corrMat,cmap='coolwarm')"
      ],
      "execution_count": 49,
      "outputs": [
        {
          "output_type": "execute_result",
          "data": {
            "text/plain": [
              "<matplotlib.axes._subplots.AxesSubplot at 0x7fa6dd549bd0>"
            ]
          },
          "metadata": {
            "tags": []
          },
          "execution_count": 49
        },
        {
          "output_type": "display_data",
          "data": {
            "image/png": "[encoded data removed]",
            "text/plain": [
              "<Figure size 720x576 with 2 Axes>"
            ]
          },
          "metadata": {
            "tags": []
          }
        }
      ]
    },
    {
      "cell_type": "code",
      "metadata": {
        "colab": {
          "base_uri": "https://localhost:8080/",
          "height": 456
        },
        "id": "OLFiasowgAq8",
        "outputId": "87a67e0f-e86c-4a72-872b-4fe664e3ccf7"
      },
      "source": [
        "# Correlation with Default:\n",
        "plt.figure(figsize=(10,6))\n",
        "credit.corr()['DEFAULT'].sort_values().drop('DEFAULT').plot(kind=\"bar\",color=\"#756bb1\")\n",
        "plt.title('Correlation with Default')"
      ],
      "execution_count": 169,
      "outputs": [
        {
          "output_type": "execute_result",
          "data": {
            "text/plain": [
              "Text(0.5, 1.0, 'Correlation with Default')"
            ]
          },
          "metadata": {
            "tags": []
          },
          "execution_count": 169
        },
        {
          "output_type": "display_data",
          "data": {
            "image/png": "[encoded data removed]",
            "text/plain": [
              "<Figure size 720x432 with 1 Axes>"
            ]
          },
          "metadata": {
            "tags": []
          }
        }
      ]
    },
    {
      "cell_type": "markdown",
      "metadata": {
        "id": "zcl4craqhn-n"
      },
      "source": [
        "**DEFAULT** is highly correlated with \"history of past payment,\" expecially the payment record of April 2005, and \"amount of the given credit\" (LIMIT_BAL). Others are not so relative."
      ]
    },
    {
      "cell_type": "code",
      "metadata": {
        "colab": {
          "base_uri": "https://localhost:8080/",
          "height": 456
        },
        "id": "9Pqw_XiXg4UE",
        "outputId": "6c48e9c8-cd3a-42ad-bf0e-54089a14426f"
      },
      "source": [
        "# Correlation with Amount:\n",
        "plt.figure(figsize=(10,6))\n",
        "credit.corr()['LIMIT_BAL'].sort_values().drop('LIMIT_BAL').plot(kind=\"bar\",color=\"#756bb1\")\n",
        "plt.title('Correlation with Amount')"
      ],
      "execution_count": 170,
      "outputs": [
        {
          "output_type": "execute_result",
          "data": {
            "text/plain": [
              "Text(0.5, 1.0, 'Correlation with Amount')"
            ]
          },
          "metadata": {
            "tags": []
          },
          "execution_count": 170
        },
        {
          "output_type": "display_data",
          "data": {
            "image/png": "[encoded data removed]",
            "text/plain": [
              "<Figure size 720x432 with 1 Axes>"
            ]
          },
          "metadata": {
            "tags": []
          }
        }
      ]
    },
    {
      "cell_type": "code",
      "metadata": {
        "colab": {
          "base_uri": "https://localhost:8080/",
          "height": 844
        },
        "id": "b6Ll9xguDOgt",
        "outputId": "1d31f17a-f2dc-4c2a-eceb-cd9b11a86a64"
      },
      "source": [
        "# Covariance:\n",
        "covMat = credit.cov()\n",
        "covMat"
      ],
      "execution_count": 50,
      "outputs": [
        {
          "output_type": "execute_result",
          "data": {
            "text/html": [
              "<div>\n",
              "<style scoped>\n",
              "    .dataframe tbody tr th:only-of-type {\n",
              "        vertical-align: middle;\n",
              "    }\n",
              "\n",
              "    .dataframe tbody tr th {\n",
              "        vertical-align: top;\n",
              "    }\n",
              "\n",
              "    .dataframe thead th {\n",
              "        text-align: right;\n",
              "    }\n",
              "</style>\n",
              "<table border=\"1\" class=\"dataframe\">\n",
              "  <thead>\n",
              "    <tr style=\"text-align: right;\">\n",
              "      <th></th>\n",
              "      <th>ID</th>\n",
              "      <th>LIMIT_BAL</th>\n",
              "      <th>SEX</th>\n",
              "      <th>EDUCATION</th>\n",
              "      <th>MARRIAGE</th>\n",
              "      <th>AGE</th>\n",
              "      <th>PAY_0</th>\n",
              "      <th>PAY_2</th>\n",
              "      <th>PAY_3</th>\n",
              "      <th>PAY_4</th>\n",
              "      <th>PAY_5</th>\n",
              "      <th>PAY_6</th>\n",
              "      <th>BILL_AMT1</th>\n",
              "      <th>BILL_AMT2</th>\n",
              "      <th>BILL_AMT3</th>\n",
              "      <th>BILL_AMT4</th>\n",
              "      <th>BILL_AMT5</th>\n",
              "      <th>BILL_AMT6</th>\n",
              "      <th>PAY_AMT1</th>\n",
              "      <th>PAY_AMT2</th>\n",
              "      <th>PAY_AMT3</th>\n",
              "      <th>PAY_AMT4</th>\n",
              "      <th>PAY_AMT5</th>\n",
              "      <th>PAY_AMT6</th>\n",
              "      <th>DEFAULT</th>\n",
              "    </tr>\n",
              "  </thead>\n",
              "  <tbody>\n",
              "    <tr>\n",
              "      <th>ID</th>\n",
              "      <td>7.500250e+07</td>\n",
              "      <td>2.941664e+07</td>\n",
              "      <td>78.356379</td>\n",
              "      <td>157.845930</td>\n",
              "      <td>-131.452515</td>\n",
              "      <td>1491.057019</td>\n",
              "      <td>-297.572636</td>\n",
              "      <td>-116.276959</td>\n",
              "      <td>-191.692156</td>\n",
              "      <td>-27.691323</td>\n",
              "      <td>-217.860029</td>\n",
              "      <td>-201.877379</td>\n",
              "      <td>1.236447e+07</td>\n",
              "      <td>1.108392e+07</td>\n",
              "      <td>1.462688e+07</td>\n",
              "      <td>2.248126e+07</td>\n",
              "      <td>8.795803e+06</td>\n",
              "      <td>8.628506e+06</td>\n",
              "      <td>1.397501e+06</td>\n",
              "      <td>1.677383e+06</td>\n",
              "      <td>5.969803e+06</td>\n",
              "      <td>1.057334e+06</td>\n",
              "      <td>8.629502e+04</td>\n",
              "      <td>4.618460e+05</td>\n",
              "      <td>50.151705</td>\n",
              "    </tr>\n",
              "    <tr>\n",
              "      <th>LIMIT_BAL</th>\n",
              "      <td>2.941664e+07</td>\n",
              "      <td>1.683446e+10</td>\n",
              "      <td>1571.050630</td>\n",
              "      <td>-23156.465743</td>\n",
              "      <td>-7323.669658</td>\n",
              "      <td>173076.722569</td>\n",
              "      <td>-39545.930009</td>\n",
              "      <td>-46037.648360</td>\n",
              "      <td>-44432.253315</td>\n",
              "      <td>-40571.811859</td>\n",
              "      <td>-36670.562325</td>\n",
              "      <td>-35093.083441</td>\n",
              "      <td>2.727020e+09</td>\n",
              "      <td>2.570130e+09</td>\n",
              "      <td>2.548533e+09</td>\n",
              "      <td>2.453926e+09</td>\n",
              "      <td>2.331481e+09</td>\n",
              "      <td>2.243837e+09</td>\n",
              "      <td>4.195711e+08</td>\n",
              "      <td>5.333504e+08</td>\n",
              "      <td>4.801180e+08</td>\n",
              "      <td>4.131202e+08</td>\n",
              "      <td>4.305657e+08</td>\n",
              "      <td>5.065153e+08</td>\n",
              "      <td>8267.551759</td>\n",
              "    </tr>\n",
              "    <tr>\n",
              "      <th>SEX</th>\n",
              "      <td>7.835638e+01</td>\n",
              "      <td>1.571051e+03</td>\n",
              "      <td>0.239247</td>\n",
              "      <td>0.003894</td>\n",
              "      <td>-0.008014</td>\n",
              "      <td>-0.409726</td>\n",
              "      <td>-0.031685</td>\n",
              "      <td>-0.041442</td>\n",
              "      <td>-0.038694</td>\n",
              "      <td>-0.034411</td>\n",
              "      <td>-0.030521</td>\n",
              "      <td>-0.024754</td>\n",
              "      <td>-1.211694e+03</td>\n",
              "      <td>-1.085595e+03</td>\n",
              "      <td>-8.332074e+02</td>\n",
              "      <td>-6.884896e+02</td>\n",
              "      <td>-5.056943e+02</td>\n",
              "      <td>-4.874302e+02</td>\n",
              "      <td>-1.964266e+00</td>\n",
              "      <td>-1.567550e+01</td>\n",
              "      <td>-7.403481e+01</td>\n",
              "      <td>-1.708011e+01</td>\n",
              "      <td>-1.245881e+01</td>\n",
              "      <td>-2.405188e+01</td>\n",
              "      <td>0.008113</td>\n",
              "    </tr>\n",
              "    <tr>\n",
              "      <th>EDUCATION</th>\n",
              "      <td>1.578459e+02</td>\n",
              "      <td>-2.315647e+04</td>\n",
              "      <td>0.003894</td>\n",
              "      <td>0.488103</td>\n",
              "      <td>-0.057665</td>\n",
              "      <td>1.248984</td>\n",
              "      <td>0.103428</td>\n",
              "      <td>0.128377</td>\n",
              "      <td>0.122190</td>\n",
              "      <td>0.113038</td>\n",
              "      <td>0.098218</td>\n",
              "      <td>0.088733</td>\n",
              "      <td>1.854318e+02</td>\n",
              "      <td>4.040317e+01</td>\n",
              "      <td>-2.018968e+02</td>\n",
              "      <td>-6.702615e+02</td>\n",
              "      <td>-7.700671e+02</td>\n",
              "      <td>-6.257542e+02</td>\n",
              "      <td>-5.350128e+02</td>\n",
              "      <td>-6.477583e+02</td>\n",
              "      <td>-6.980181e+02</td>\n",
              "      <td>-4.899077e+02</td>\n",
              "      <td>-5.527435e+02</td>\n",
              "      <td>-6.709261e+02</td>\n",
              "      <td>-0.015858</td>\n",
              "    </tr>\n",
              "    <tr>\n",
              "      <th>MARRIAGE</th>\n",
              "      <td>-1.314525e+02</td>\n",
              "      <td>-7.323670e+03</td>\n",
              "      <td>-0.008014</td>\n",
              "      <td>-0.057665</td>\n",
              "      <td>0.272452</td>\n",
              "      <td>-1.992764</td>\n",
              "      <td>0.011683</td>\n",
              "      <td>0.015122</td>\n",
              "      <td>0.020421</td>\n",
              "      <td>0.020213</td>\n",
              "      <td>0.021074</td>\n",
              "      <td>0.020616</td>\n",
              "      <td>-9.021547e+02</td>\n",
              "      <td>-8.025179e+02</td>\n",
              "      <td>-9.016791e+02</td>\n",
              "      <td>-7.838816e+02</td>\n",
              "      <td>-8.058409e+02</td>\n",
              "      <td>-6.592233e+02</td>\n",
              "      <td>-5.169161e+01</td>\n",
              "      <td>-9.732797e+01</td>\n",
              "      <td>-3.254608e+01</td>\n",
              "      <td>-1.035182e+02</td>\n",
              "      <td>-9.607709e+00</td>\n",
              "      <td>-6.162327e+01</td>\n",
              "      <td>0.005273</td>\n",
              "    </tr>\n",
              "    <tr>\n",
              "      <th>AGE</th>\n",
              "      <td>1.491057e+03</td>\n",
              "      <td>1.730767e+05</td>\n",
              "      <td>-0.409726</td>\n",
              "      <td>1.248984</td>\n",
              "      <td>-1.992764</td>\n",
              "      <td>84.969755</td>\n",
              "      <td>-0.408639</td>\n",
              "      <td>-0.553408</td>\n",
              "      <td>-0.585263</td>\n",
              "      <td>-0.535851</td>\n",
              "      <td>-0.562245</td>\n",
              "      <td>-0.517022</td>\n",
              "      <td>3.817293e+04</td>\n",
              "      <td>3.561366e+04</td>\n",
              "      <td>3.433425e+04</td>\n",
              "      <td>3.045311e+04</td>\n",
              "      <td>2.765407e+04</td>\n",
              "      <td>2.613765e+04</td>\n",
              "      <td>3.992042e+03</td>\n",
              "      <td>4.626862e+03</td>\n",
              "      <td>4.746824e+03</td>\n",
              "      <td>3.087324e+03</td>\n",
              "      <td>3.218052e+03</td>\n",
              "      <td>3.191904e+03</td>\n",
              "      <td>-0.053143</td>\n",
              "    </tr>\n",
              "    <tr>\n",
              "      <th>PAY_0</th>\n",
              "      <td>-2.975726e+02</td>\n",
              "      <td>-3.954593e+04</td>\n",
              "      <td>-0.031685</td>\n",
              "      <td>0.103428</td>\n",
              "      <td>0.011683</td>\n",
              "      <td>-0.408639</td>\n",
              "      <td>1.262930</td>\n",
              "      <td>0.904330</td>\n",
              "      <td>0.772384</td>\n",
              "      <td>0.707972</td>\n",
              "      <td>0.648743</td>\n",
              "      <td>0.613292</td>\n",
              "      <td>1.548030e+04</td>\n",
              "      <td>1.518592e+04</td>\n",
              "      <td>1.401156e+04</td>\n",
              "      <td>1.295025e+04</td>\n",
              "      <td>1.234167e+04</td>\n",
              "      <td>1.184476e+04</td>\n",
              "      <td>-1.475495e+03</td>\n",
              "      <td>-1.815138e+03</td>\n",
              "      <td>-1.396168e+03</td>\n",
              "      <td>-1.126848e+03</td>\n",
              "      <td>-9.991077e+02</td>\n",
              "      <td>-1.172194e+03</td>\n",
              "      <td>-0.151499</td>\n",
              "    </tr>\n",
              "    <tr>\n",
              "      <th>PAY_2</th>\n",
              "      <td>-1.162770e+02</td>\n",
              "      <td>-4.603765e+04</td>\n",
              "      <td>-0.041442</td>\n",
              "      <td>0.128377</td>\n",
              "      <td>0.015122</td>\n",
              "      <td>-0.553408</td>\n",
              "      <td>0.904330</td>\n",
              "      <td>1.433254</td>\n",
              "      <td>1.098371</td>\n",
              "      <td>0.926680</td>\n",
              "      <td>0.844886</td>\n",
              "      <td>0.792320</td>\n",
              "      <td>2.070661e+04</td>\n",
              "      <td>2.004583e+04</td>\n",
              "      <td>1.860951e+04</td>\n",
              "      <td>1.711630e+04</td>\n",
              "      <td>1.611095e+04</td>\n",
              "      <td>1.564288e+04</td>\n",
              "      <td>-1.600241e+03</td>\n",
              "      <td>-1.627192e+03</td>\n",
              "      <td>-1.178331e+03</td>\n",
              "      <td>-8.788439e+02</td>\n",
              "      <td>-6.784685e+02</td>\n",
              "      <td>-7.768350e+02</td>\n",
              "      <td>-0.130960</td>\n",
              "    </tr>\n",
              "    <tr>\n",
              "      <th>PAY_3</th>\n",
              "      <td>-1.916922e+02</td>\n",
              "      <td>-4.443225e+04</td>\n",
              "      <td>-0.038694</td>\n",
              "      <td>0.122190</td>\n",
              "      <td>0.020421</td>\n",
              "      <td>-0.585263</td>\n",
              "      <td>0.772384</td>\n",
              "      <td>1.098371</td>\n",
              "      <td>1.432492</td>\n",
              "      <td>1.087761</td>\n",
              "      <td>0.931455</td>\n",
              "      <td>0.870815</td>\n",
              "      <td>1.837321e+04</td>\n",
              "      <td>2.021407e+04</td>\n",
              "      <td>1.888249e+04</td>\n",
              "      <td>1.749410e+04</td>\n",
              "      <td>1.638295e+04</td>\n",
              "      <td>1.584709e+04</td>\n",
              "      <td>2.566847e+01</td>\n",
              "      <td>-1.841953e+03</td>\n",
              "      <td>-1.123429e+03</td>\n",
              "      <td>-8.637622e+02</td>\n",
              "      <td>-6.557960e+02</td>\n",
              "      <td>-7.630260e+02</td>\n",
              "      <td>-0.116867</td>\n",
              "    </tr>\n",
              "    <tr>\n",
              "      <th>PAY_4</th>\n",
              "      <td>-2.769132e+01</td>\n",
              "      <td>-4.057181e+04</td>\n",
              "      <td>-0.034411</td>\n",
              "      <td>0.113038</td>\n",
              "      <td>0.020213</td>\n",
              "      <td>-0.535851</td>\n",
              "      <td>0.707972</td>\n",
              "      <td>0.926680</td>\n",
              "      <td>1.087761</td>\n",
              "      <td>1.366885</td>\n",
              "      <td>1.086161</td>\n",
              "      <td>0.963263</td>\n",
              "      <td>1.746020e+04</td>\n",
              "      <td>1.879063e+04</td>\n",
              "      <td>1.986300e+04</td>\n",
              "      <td>1.849642e+04</td>\n",
              "      <td>1.726555e+04</td>\n",
              "      <td>1.665159e+04</td>\n",
              "      <td>-1.812956e+02</td>\n",
              "      <td>-5.235817e+01</td>\n",
              "      <td>-1.425205e+03</td>\n",
              "      <td>-7.960357e+02</td>\n",
              "      <td>-5.999916e+02</td>\n",
              "      <td>-5.521373e+02</td>\n",
              "      <td>-0.105115</td>\n",
              "    </tr>\n",
              "    <tr>\n",
              "      <th>PAY_5</th>\n",
              "      <td>-2.178600e+02</td>\n",
              "      <td>-3.667056e+04</td>\n",
              "      <td>-0.030521</td>\n",
              "      <td>0.098218</td>\n",
              "      <td>0.021074</td>\n",
              "      <td>-0.562245</td>\n",
              "      <td>0.648743</td>\n",
              "      <td>0.844886</td>\n",
              "      <td>0.931455</td>\n",
              "      <td>1.086161</td>\n",
              "      <td>1.284114</td>\n",
              "      <td>1.064545</td>\n",
              "      <td>1.724638e+04</td>\n",
              "      <td>1.830129e+04</td>\n",
              "      <td>1.912266e+04</td>\n",
              "      <td>1.982293e+04</td>\n",
              "      <td>1.858659e+04</td>\n",
              "      <td>1.771569e+04</td>\n",
              "      <td>-1.142817e+02</td>\n",
              "      <td>-8.332449e+01</td>\n",
              "      <td>1.808121e+02</td>\n",
              "      <td>-1.034962e+03</td>\n",
              "      <td>-5.771610e+02</td>\n",
              "      <td>-4.638926e+02</td>\n",
              "      <td>-0.096020</td>\n",
              "    </tr>\n",
              "    <tr>\n",
              "      <th>PAY_6</th>\n",
              "      <td>-2.018774e+02</td>\n",
              "      <td>-3.509308e+04</td>\n",
              "      <td>-0.024754</td>\n",
              "      <td>0.088733</td>\n",
              "      <td>0.020616</td>\n",
              "      <td>-0.517022</td>\n",
              "      <td>0.613292</td>\n",
              "      <td>0.792320</td>\n",
              "      <td>0.870815</td>\n",
              "      <td>0.963263</td>\n",
              "      <td>1.064545</td>\n",
              "      <td>1.322472</td>\n",
              "      <td>1.756042e+04</td>\n",
              "      <td>1.857353e+04</td>\n",
              "      <td>1.923442e+04</td>\n",
              "      <td>1.970555e+04</td>\n",
              "      <td>2.033812e+04</td>\n",
              "      <td>1.952488e+04</td>\n",
              "      <td>-2.850067e+01</td>\n",
              "      <td>-1.383995e+02</td>\n",
              "      <td>1.181210e+02</td>\n",
              "      <td>3.426237e+02</td>\n",
              "      <td>-8.158327e+02</td>\n",
              "      <td>-5.172163e+02</td>\n",
              "      <td>-0.089194</td>\n",
              "    </tr>\n",
              "    <tr>\n",
              "      <th>BILL_AMT1</th>\n",
              "      <td>1.236447e+07</td>\n",
              "      <td>2.727020e+09</td>\n",
              "      <td>-1211.694332</td>\n",
              "      <td>185.431846</td>\n",
              "      <td>-902.154685</td>\n",
              "      <td>38172.933546</td>\n",
              "      <td>15480.304170</td>\n",
              "      <td>20706.614217</td>\n",
              "      <td>18373.210469</td>\n",
              "      <td>17460.198259</td>\n",
              "      <td>17246.377531</td>\n",
              "      <td>17560.424872</td>\n",
              "      <td>5.422240e+09</td>\n",
              "      <td>4.986670e+09</td>\n",
              "      <td>4.556511e+09</td>\n",
              "      <td>4.075286e+09</td>\n",
              "      <td>3.714795e+09</td>\n",
              "      <td>3.519876e+09</td>\n",
              "      <td>1.710894e+08</td>\n",
              "      <td>1.685692e+08</td>\n",
              "      <td>2.034048e+08</td>\n",
              "      <td>1.826164e+08</td>\n",
              "      <td>1.879091e+08</td>\n",
              "      <td>2.347681e+08</td>\n",
              "      <td>600.394108</td>\n",
              "    </tr>\n",
              "    <tr>\n",
              "      <th>BILL_AMT2</th>\n",
              "      <td>1.108392e+07</td>\n",
              "      <td>2.570130e+09</td>\n",
              "      <td>-1085.595467</td>\n",
              "      <td>40.403173</td>\n",
              "      <td>-802.517866</td>\n",
              "      <td>35613.657962</td>\n",
              "      <td>15185.916919</td>\n",
              "      <td>20045.829482</td>\n",
              "      <td>20214.071495</td>\n",
              "      <td>18790.627741</td>\n",
              "      <td>18301.285286</td>\n",
              "      <td>18573.527165</td>\n",
              "      <td>4.986670e+09</td>\n",
              "      <td>5.065705e+09</td>\n",
              "      <td>4.582086e+09</td>\n",
              "      <td>4.086508e+09</td>\n",
              "      <td>3.720401e+09</td>\n",
              "      <td>3.524868e+09</td>\n",
              "      <td>3.305146e+08</td>\n",
              "      <td>1.653859e+08</td>\n",
              "      <td>1.888731e+08</td>\n",
              "      <td>1.643518e+08</td>\n",
              "      <td>1.717652e+08</td>\n",
              "      <td>2.204845e+08</td>\n",
              "      <td>419.289137</td>\n",
              "    </tr>\n",
              "    <tr>\n",
              "      <th>BILL_AMT3</th>\n",
              "      <td>1.462688e+07</td>\n",
              "      <td>2.548533e+09</td>\n",
              "      <td>-833.207432</td>\n",
              "      <td>-201.896816</td>\n",
              "      <td>-901.679085</td>\n",
              "      <td>34334.251320</td>\n",
              "      <td>14011.556537</td>\n",
              "      <td>18609.510991</td>\n",
              "      <td>18882.491544</td>\n",
              "      <td>19862.999426</td>\n",
              "      <td>19122.663330</td>\n",
              "      <td>19234.422476</td>\n",
              "      <td>4.556511e+09</td>\n",
              "      <td>4.582086e+09</td>\n",
              "      <td>4.809338e+09</td>\n",
              "      <td>4.122238e+09</td>\n",
              "      <td>3.726780e+09</td>\n",
              "      <td>3.524247e+09</td>\n",
              "      <td>2.806565e+08</td>\n",
              "      <td>5.064226e+08</td>\n",
              "      <td>1.587478e+08</td>\n",
              "      <td>1.558003e+08</td>\n",
              "      <td>1.904126e+08</td>\n",
              "      <td>2.247817e+08</td>\n",
              "      <td>405.153680</td>\n",
              "    </tr>\n",
              "    <tr>\n",
              "      <th>BILL_AMT4</th>\n",
              "      <td>2.248126e+07</td>\n",
              "      <td>2.453926e+09</td>\n",
              "      <td>-688.489572</td>\n",
              "      <td>-670.261519</td>\n",
              "      <td>-783.881599</td>\n",
              "      <td>30453.108180</td>\n",
              "      <td>12950.248389</td>\n",
              "      <td>17116.298983</td>\n",
              "      <td>17494.100555</td>\n",
              "      <td>18496.423186</td>\n",
              "      <td>19822.925512</td>\n",
              "      <td>19705.551629</td>\n",
              "      <td>4.075286e+09</td>\n",
              "      <td>4.086508e+09</td>\n",
              "      <td>4.122238e+09</td>\n",
              "      <td>4.138716e+09</td>\n",
              "      <td>3.677105e+09</td>\n",
              "      <td>3.451762e+09</td>\n",
              "      <td>2.482888e+08</td>\n",
              "      <td>3.076686e+08</td>\n",
              "      <td>3.398374e+08</td>\n",
              "      <td>1.312133e+08</td>\n",
              "      <td>1.576892e+08</td>\n",
              "      <td>2.031590e+08</td>\n",
              "      <td>271.199885</td>\n",
              "    </tr>\n",
              "    <tr>\n",
              "      <th>BILL_AMT5</th>\n",
              "      <td>8.795803e+06</td>\n",
              "      <td>2.331481e+09</td>\n",
              "      <td>-505.694333</td>\n",
              "      <td>-770.067070</td>\n",
              "      <td>-805.840875</td>\n",
              "      <td>27654.067800</td>\n",
              "      <td>12341.668685</td>\n",
              "      <td>16110.952468</td>\n",
              "      <td>16382.947539</td>\n",
              "      <td>17265.551898</td>\n",
              "      <td>18586.590324</td>\n",
              "      <td>20338.120325</td>\n",
              "      <td>3.714795e+09</td>\n",
              "      <td>3.720401e+09</td>\n",
              "      <td>3.726780e+09</td>\n",
              "      <td>3.677105e+09</td>\n",
              "      <td>3.696294e+09</td>\n",
              "      <td>3.425914e+09</td>\n",
              "      <td>2.185501e+08</td>\n",
              "      <td>2.538936e+08</td>\n",
              "      <td>2.700805e+08</td>\n",
              "      <td>2.791830e+08</td>\n",
              "      <td>1.315051e+08</td>\n",
              "      <td>1.774537e+08</td>\n",
              "      <td>170.597447</td>\n",
              "    </tr>\n",
              "    <tr>\n",
              "      <th>BILL_AMT6</th>\n",
              "      <td>8.628506e+06</td>\n",
              "      <td>2.243837e+09</td>\n",
              "      <td>-487.430160</td>\n",
              "      <td>-625.754218</td>\n",
              "      <td>-659.223347</td>\n",
              "      <td>26137.648547</td>\n",
              "      <td>11844.759724</td>\n",
              "      <td>15642.875812</td>\n",
              "      <td>15847.089648</td>\n",
              "      <td>16651.586314</td>\n",
              "      <td>17715.690075</td>\n",
              "      <td>19524.880348</td>\n",
              "      <td>3.519876e+09</td>\n",
              "      <td>3.524868e+09</td>\n",
              "      <td>3.524247e+09</td>\n",
              "      <td>3.451762e+09</td>\n",
              "      <td>3.425914e+09</td>\n",
              "      <td>3.546692e+09</td>\n",
              "      <td>1.972478e+08</td>\n",
              "      <td>2.369244e+08</td>\n",
              "      <td>2.451233e+08</td>\n",
              "      <td>2.334670e+08</td>\n",
              "      <td>2.799982e+08</td>\n",
              "      <td>1.222761e+08</td>\n",
              "      <td>132.796294</td>\n",
              "    </tr>\n",
              "    <tr>\n",
              "      <th>PAY_AMT1</th>\n",
              "      <td>1.397501e+06</td>\n",
              "      <td>4.195711e+08</td>\n",
              "      <td>-1.964266</td>\n",
              "      <td>-535.012784</td>\n",
              "      <td>-51.691615</td>\n",
              "      <td>3992.041735</td>\n",
              "      <td>-1475.495089</td>\n",
              "      <td>-1600.240756</td>\n",
              "      <td>25.668468</td>\n",
              "      <td>-181.295613</td>\n",
              "      <td>-114.281714</td>\n",
              "      <td>-28.500666</td>\n",
              "      <td>1.710894e+08</td>\n",
              "      <td>3.305146e+08</td>\n",
              "      <td>2.806565e+08</td>\n",
              "      <td>2.482888e+08</td>\n",
              "      <td>2.185501e+08</td>\n",
              "      <td>1.972478e+08</td>\n",
              "      <td>2.743423e+08</td>\n",
              "      <td>1.089849e+08</td>\n",
              "      <td>7.354626e+07</td>\n",
              "      <td>5.178189e+07</td>\n",
              "      <td>3.756893e+07</td>\n",
              "      <td>5.469033e+07</td>\n",
              "      <td>501.374552</td>\n",
              "    </tr>\n",
              "    <tr>\n",
              "      <th>PAY_AMT2</th>\n",
              "      <td>1.677383e+06</td>\n",
              "      <td>5.333504e+08</td>\n",
              "      <td>-15.675500</td>\n",
              "      <td>-647.758256</td>\n",
              "      <td>-97.327974</td>\n",
              "      <td>4626.861549</td>\n",
              "      <td>-1815.138407</td>\n",
              "      <td>-1627.192336</td>\n",
              "      <td>-1841.952825</td>\n",
              "      <td>-52.358166</td>\n",
              "      <td>-83.324487</td>\n",
              "      <td>-138.399452</td>\n",
              "      <td>1.685692e+08</td>\n",
              "      <td>1.653859e+08</td>\n",
              "      <td>5.064226e+08</td>\n",
              "      <td>3.076686e+08</td>\n",
              "      <td>2.538936e+08</td>\n",
              "      <td>2.369244e+08</td>\n",
              "      <td>1.089849e+08</td>\n",
              "      <td>5.308817e+08</td>\n",
              "      <td>9.929841e+07</td>\n",
              "      <td>6.501168e+07</td>\n",
              "      <td>6.368414e+07</td>\n",
              "      <td>6.456816e+07</td>\n",
              "      <td>560.210740</td>\n",
              "    </tr>\n",
              "    <tr>\n",
              "      <th>PAY_AMT3</th>\n",
              "      <td>5.969803e+06</td>\n",
              "      <td>4.801180e+08</td>\n",
              "      <td>-74.034812</td>\n",
              "      <td>-698.018103</td>\n",
              "      <td>-32.546082</td>\n",
              "      <td>4746.824393</td>\n",
              "      <td>-1396.168258</td>\n",
              "      <td>-1178.331282</td>\n",
              "      <td>-1123.428782</td>\n",
              "      <td>-1425.205189</td>\n",
              "      <td>180.812142</td>\n",
              "      <td>118.121022</td>\n",
              "      <td>2.034048e+08</td>\n",
              "      <td>1.888731e+08</td>\n",
              "      <td>1.587478e+08</td>\n",
              "      <td>3.398374e+08</td>\n",
              "      <td>2.700805e+08</td>\n",
              "      <td>2.451233e+08</td>\n",
              "      <td>7.354626e+07</td>\n",
              "      <td>9.929841e+07</td>\n",
              "      <td>3.100051e+08</td>\n",
              "      <td>5.966970e+07</td>\n",
              "      <td>4.282921e+07</td>\n",
              "      <td>5.093879e+07</td>\n",
              "      <td>411.076284</td>\n",
              "    </tr>\n",
              "    <tr>\n",
              "      <th>PAY_AMT4</th>\n",
              "      <td>1.057334e+06</td>\n",
              "      <td>4.131202e+08</td>\n",
              "      <td>-17.080110</td>\n",
              "      <td>-489.907696</td>\n",
              "      <td>-103.518204</td>\n",
              "      <td>3087.324192</td>\n",
              "      <td>-1126.847945</td>\n",
              "      <td>-878.843879</td>\n",
              "      <td>-863.762183</td>\n",
              "      <td>-796.035739</td>\n",
              "      <td>-1034.961970</td>\n",
              "      <td>342.623730</td>\n",
              "      <td>1.826164e+08</td>\n",
              "      <td>1.643518e+08</td>\n",
              "      <td>1.558003e+08</td>\n",
              "      <td>1.312133e+08</td>\n",
              "      <td>2.791830e+08</td>\n",
              "      <td>2.334670e+08</td>\n",
              "      <td>5.178189e+07</td>\n",
              "      <td>6.501168e+07</td>\n",
              "      <td>5.966970e+07</td>\n",
              "      <td>2.454286e+08</td>\n",
              "      <td>3.634098e+07</td>\n",
              "      <td>4.395747e+07</td>\n",
              "      <td>369.515887</td>\n",
              "    </tr>\n",
              "    <tr>\n",
              "      <th>PAY_AMT5</th>\n",
              "      <td>8.629502e+04</td>\n",
              "      <td>4.305657e+08</td>\n",
              "      <td>-12.458809</td>\n",
              "      <td>-552.743501</td>\n",
              "      <td>-9.607709</td>\n",
              "      <td>3218.052172</td>\n",
              "      <td>-999.107730</td>\n",
              "      <td>-678.468530</td>\n",
              "      <td>-655.796002</td>\n",
              "      <td>-599.991629</td>\n",
              "      <td>-577.161017</td>\n",
              "      <td>-815.832688</td>\n",
              "      <td>1.879091e+08</td>\n",
              "      <td>1.717652e+08</td>\n",
              "      <td>1.904126e+08</td>\n",
              "      <td>1.576892e+08</td>\n",
              "      <td>1.315051e+08</td>\n",
              "      <td>2.799982e+08</td>\n",
              "      <td>3.756893e+07</td>\n",
              "      <td>6.368414e+07</td>\n",
              "      <td>4.282921e+07</td>\n",
              "      <td>3.634098e+07</td>\n",
              "      <td>2.334266e+08</td>\n",
              "      <td>4.207110e+07</td>\n",
              "      <td>349.562530</td>\n",
              "    </tr>\n",
              "    <tr>\n",
              "      <th>PAY_AMT6</th>\n",
              "      <td>4.618460e+05</td>\n",
              "      <td>5.065153e+08</td>\n",
              "      <td>-24.051885</td>\n",
              "      <td>-670.926062</td>\n",
              "      <td>-61.623271</td>\n",
              "      <td>3191.903901</td>\n",
              "      <td>-1172.193614</td>\n",
              "      <td>-776.835035</td>\n",
              "      <td>-763.026041</td>\n",
              "      <td>-552.137338</td>\n",
              "      <td>-463.892613</td>\n",
              "      <td>-517.216277</td>\n",
              "      <td>2.347681e+08</td>\n",
              "      <td>2.204845e+08</td>\n",
              "      <td>2.247817e+08</td>\n",
              "      <td>2.031590e+08</td>\n",
              "      <td>1.774537e+08</td>\n",
              "      <td>1.222761e+08</td>\n",
              "      <td>5.469033e+07</td>\n",
              "      <td>6.456816e+07</td>\n",
              "      <td>5.093879e+07</td>\n",
              "      <td>4.395747e+07</td>\n",
              "      <td>4.207110e+07</td>\n",
              "      <td>3.160383e+08</td>\n",
              "      <td>392.426415</td>\n",
              "    </tr>\n",
              "    <tr>\n",
              "      <th>DEFAULT</th>\n",
              "      <td>5.015171e+01</td>\n",
              "      <td>8.267552e+03</td>\n",
              "      <td>0.008113</td>\n",
              "      <td>-0.015858</td>\n",
              "      <td>0.005273</td>\n",
              "      <td>-0.053143</td>\n",
              "      <td>-0.151499</td>\n",
              "      <td>-0.130960</td>\n",
              "      <td>-0.116867</td>\n",
              "      <td>-0.105115</td>\n",
              "      <td>-0.096020</td>\n",
              "      <td>-0.089194</td>\n",
              "      <td>6.003941e+02</td>\n",
              "      <td>4.192891e+02</td>\n",
              "      <td>4.051537e+02</td>\n",
              "      <td>2.711999e+02</td>\n",
              "      <td>1.705974e+02</td>\n",
              "      <td>1.327963e+02</td>\n",
              "      <td>5.013746e+02</td>\n",
              "      <td>5.602107e+02</td>\n",
              "      <td>4.110763e+02</td>\n",
              "      <td>3.695159e+02</td>\n",
              "      <td>3.495625e+02</td>\n",
              "      <td>3.924264e+02</td>\n",
              "      <td>0.172276</td>\n",
              "    </tr>\n",
              "  </tbody>\n",
              "</table>\n",
              "</div>"
            ],
            "text/plain": [
              "                     ID     LIMIT_BAL  ...      PAY_AMT6      DEFAULT\n",
              "ID         7.500250e+07  2.941664e+07  ...  4.618460e+05    50.151705\n",
              "LIMIT_BAL  2.941664e+07  1.683446e+10  ...  5.065153e+08  8267.551759\n",
              "SEX        7.835638e+01  1.571051e+03  ... -2.405188e+01     0.008113\n",
              "EDUCATION  1.578459e+02 -2.315647e+04  ... -6.709261e+02    -0.015858\n",
              "MARRIAGE  -1.314525e+02 -7.323670e+03  ... -6.162327e+01     0.005273\n",
              "AGE        1.491057e+03  1.730767e+05  ...  3.191904e+03    -0.053143\n",
              "PAY_0     -2.975726e+02 -3.954593e+04  ... -1.172194e+03    -0.151499\n",
              "PAY_2     -1.162770e+02 -4.603765e+04  ... -7.768350e+02    -0.130960\n",
              "PAY_3     -1.916922e+02 -4.443225e+04  ... -7.630260e+02    -0.116867\n",
              "PAY_4     -2.769132e+01 -4.057181e+04  ... -5.521373e+02    -0.105115\n",
              "PAY_5     -2.178600e+02 -3.667056e+04  ... -4.638926e+02    -0.096020\n",
              "PAY_6     -2.018774e+02 -3.509308e+04  ... -5.172163e+02    -0.089194\n",
              "BILL_AMT1  1.236447e+07  2.727020e+09  ...  2.347681e+08   600.394108\n",
              "BILL_AMT2  1.108392e+07  2.570130e+09  ...  2.204845e+08   419.289137\n",
              "BILL_AMT3  1.462688e+07  2.548533e+09  ...  2.247817e+08   405.153680\n",
              "BILL_AMT4  2.248126e+07  2.453926e+09  ...  2.031590e+08   271.199885\n",
              "BILL_AMT5  8.795803e+06  2.331481e+09  ...  1.774537e+08   170.597447\n",
              "BILL_AMT6  8.628506e+06  2.243837e+09  ...  1.222761e+08   132.796294\n",
              "PAY_AMT1   1.397501e+06  4.195711e+08  ...  5.469033e+07   501.374552\n",
              "PAY_AMT2   1.677383e+06  5.333504e+08  ...  6.456816e+07   560.210740\n",
              "PAY_AMT3   5.969803e+06  4.801180e+08  ...  5.093879e+07   411.076284\n",
              "PAY_AMT4   1.057334e+06  4.131202e+08  ...  4.395747e+07   369.515887\n",
              "PAY_AMT5   8.629502e+04  4.305657e+08  ...  4.207110e+07   349.562530\n",
              "PAY_AMT6   4.618460e+05  5.065153e+08  ...  3.160383e+08   392.426415\n",
              "DEFAULT    5.015171e+01  8.267552e+03  ...  3.924264e+02     0.172276\n",
              "\n",
              "[25 rows x 25 columns]"
            ]
          },
          "metadata": {
            "tags": []
          },
          "execution_count": 50
        }
      ]
    },
    {
      "cell_type": "markdown",
      "metadata": {
        "id": "tKxrH4sWF8yZ"
      },
      "source": [
        "## Further Exprolation"
      ]
    },
    {
      "cell_type": "code",
      "metadata": {
        "colab": {
          "base_uri": "https://localhost:8080/"
        },
        "id": "WfyBnmexFAC1",
        "outputId": "d20f7428-8693-4678-c539-b1da4e8df19a"
      },
      "source": [
        "# Columns Names:\n",
        "credit.columns"
      ],
      "execution_count": 11,
      "outputs": [
        {
          "output_type": "execute_result",
          "data": {
            "text/plain": [
              "Index(['ID', 'LIMIT_BAL', 'SEX', 'EDUCATION', 'MARRIAGE', 'AGE', 'PAY_0',\n",
              "       'PAY_2', 'PAY_3', 'PAY_4', 'PAY_5', 'PAY_6', 'BILL_AMT1', 'BILL_AMT2',\n",
              "       'BILL_AMT3', 'BILL_AMT4', 'BILL_AMT5', 'BILL_AMT6', 'PAY_AMT1',\n",
              "       'PAY_AMT2', 'PAY_AMT3', 'PAY_AMT4', 'PAY_AMT5', 'PAY_AMT6', 'DEFAULT'],\n",
              "      dtype='object')"
            ]
          },
          "metadata": {
            "tags": []
          },
          "execution_count": 11
        }
      ]
    },
    {
      "cell_type": "code",
      "metadata": {
        "colab": {
          "base_uri": "https://localhost:8080/",
          "height": 500
        },
        "id": "Z9mr3LFgD69k",
        "outputId": "b4fc6627-e2dc-41fc-e4dd-52fba9780472"
      },
      "source": [
        "# Numbers of default/not default in each education class:\n",
        "sns.factorplot('EDUCATION',data=credit,kind='count',hue='DEFAULT',palette='rainbow',aspect=1.5)\n",
        "plt.title('Education vs Default')"
      ],
      "execution_count": 22,
      "outputs": [
        {
          "output_type": "stream",
          "text": [
            "/usr/local/lib/python3.7/dist-packages/seaborn/categorical.py:3714: UserWarning: The `factorplot` function has been renamed to `catplot`. The original name will be removed in a future release. Please update your code. Note that the default `kind` in `factorplot` (`'point'`) has changed `'strip'` in `catplot`.\n",
            "  warnings.warn(msg)\n",
            "/usr/local/lib/python3.7/dist-packages/seaborn/_decorators.py:43: FutureWarning: Pass the following variable as a keyword arg: x. From version 0.12, the only valid positional argument will be `data`, and passing other arguments without an explicit keyword will result in an error or misinterpretation.\n",
            "  FutureWarning\n"
          ],
          "name": "stderr"
        },
        {
          "output_type": "execute_result",
          "data": {
            "text/plain": [
              "Text(0.5, 1.0, 'Education vs Default')"
            ]
          },
          "metadata": {
            "tags": []
          },
          "execution_count": 22
        },
        {
          "output_type": "display_data",
          "data": {
            "image/png": "[encoded data removed]",
            "text/plain": [
              "<Figure size 630.75x360 with 1 Axes>"
            ]
          },
          "metadata": {
            "tags": [],
            "needs_background": "light"
          }
        }
      ]
    },
    {
      "cell_type": "code",
      "metadata": {
        "colab": {
          "base_uri": "https://localhost:8080/",
          "height": 500
        },
        "id": "WlBdtcpLH0lq",
        "outputId": "73e562ef-9e88-4ae3-f087-c764c1465948"
      },
      "source": [
        "# Numbers of default/not default for male/female:\n",
        "sns.factorplot('SEX',data=credit,kind='count',hue='DEFAULT',palette='rainbow',aspect=1.5)\n",
        "plt.title('Sex vs Default')"
      ],
      "execution_count": 24,
      "outputs": [
        {
          "output_type": "stream",
          "text": [
            "/usr/local/lib/python3.7/dist-packages/seaborn/categorical.py:3714: UserWarning: The `factorplot` function has been renamed to `catplot`. The original name will be removed in a future release. Please update your code. Note that the default `kind` in `factorplot` (`'point'`) has changed `'strip'` in `catplot`.\n",
            "  warnings.warn(msg)\n",
            "/usr/local/lib/python3.7/dist-packages/seaborn/_decorators.py:43: FutureWarning: Pass the following variable as a keyword arg: x. From version 0.12, the only valid positional argument will be `data`, and passing other arguments without an explicit keyword will result in an error or misinterpretation.\n",
            "  FutureWarning\n"
          ],
          "name": "stderr"
        },
        {
          "output_type": "execute_result",
          "data": {
            "text/plain": [
              "Text(0.5, 1.0, 'Sex vs Default')"
            ]
          },
          "metadata": {
            "tags": []
          },
          "execution_count": 24
        },
        {
          "output_type": "display_data",
          "data": {
            "image/png": "[encoded data removed]",
            "text/plain": [
              "<Figure size 630.75x360 with 1 Axes>"
            ]
          },
          "metadata": {
            "tags": [],
            "needs_background": "light"
          }
        }
      ]
    },
    {
      "cell_type": "code",
      "metadata": {
        "colab": {
          "base_uri": "https://localhost:8080/",
          "height": 500
        },
        "id": "YsQYDNK6KC77",
        "outputId": "3ae42575-1233-4e42-96a7-1aff854394d8"
      },
      "source": [
        "# Numbers of default/not default in each marriage class:\n",
        "sns.factorplot('MARRIAGE',data=credit,kind='count',hue='DEFAULT',palette='rainbow',aspect=1.5)\n",
        "plt.title('Marriage vs Default')"
      ],
      "execution_count": 25,
      "outputs": [
        {
          "output_type": "stream",
          "text": [
            "/usr/local/lib/python3.7/dist-packages/seaborn/categorical.py:3714: UserWarning: The `factorplot` function has been renamed to `catplot`. The original name will be removed in a future release. Please update your code. Note that the default `kind` in `factorplot` (`'point'`) has changed `'strip'` in `catplot`.\n",
            "  warnings.warn(msg)\n",
            "/usr/local/lib/python3.7/dist-packages/seaborn/_decorators.py:43: FutureWarning: Pass the following variable as a keyword arg: x. From version 0.12, the only valid positional argument will be `data`, and passing other arguments without an explicit keyword will result in an error or misinterpretation.\n",
            "  FutureWarning\n"
          ],
          "name": "stderr"
        },
        {
          "output_type": "execute_result",
          "data": {
            "text/plain": [
              "Text(0.5, 1.0, 'Marriage vs Default')"
            ]
          },
          "metadata": {
            "tags": []
          },
          "execution_count": 25
        },
        {
          "output_type": "display_data",
          "data": {
            "image/png": "[encoded data removed]",
            "text/plain": [
              "<Figure size 630.75x360 with 1 Axes>"
            ]
          },
          "metadata": {
            "tags": [],
            "needs_background": "light"
          }
        }
      ]
    },
    {
      "cell_type": "code",
      "metadata": {
        "colab": {
          "base_uri": "https://localhost:8080/",
          "height": 504
        },
        "id": "Darii1onKWnD",
        "outputId": "cfdb5871-3df5-4f4e-b7b5-49579069e989"
      },
      "source": [
        "# Numbers of male/female in each education class:\n",
        "sns.factorplot('EDUCATION',data=credit,kind='count',hue='SEX',palette='rainbow',aspect=1.5)\n",
        "plt.title('Education vs Sex')"
      ],
      "execution_count": 26,
      "outputs": [
        {
          "output_type": "stream",
          "text": [
            "/usr/local/lib/python3.7/dist-packages/seaborn/categorical.py:3714: UserWarning: The `factorplot` function has been renamed to `catplot`. The original name will be removed in a future release. Please update your code. Note that the default `kind` in `factorplot` (`'point'`) has changed `'strip'` in `catplot`.\n",
            "  warnings.warn(msg)\n",
            "/usr/local/lib/python3.7/dist-packages/seaborn/_decorators.py:43: FutureWarning: Pass the following variable as a keyword arg: x. From version 0.12, the only valid positional argument will be `data`, and passing other arguments without an explicit keyword will result in an error or misinterpretation.\n",
            "  FutureWarning\n"
          ],
          "name": "stderr"
        },
        {
          "output_type": "execute_result",
          "data": {
            "text/plain": [
              "Text(0.5, 1.0, 'Education vs Sex')"
            ]
          },
          "metadata": {
            "tags": []
          },
          "execution_count": 26
        },
        {
          "output_type": "display_data",
          "data": {
            "image/png": "[encoded data removed]",
            "text/plain": [
              "<Figure size 610.5x360 with 1 Axes>"
            ]
          },
          "metadata": {
            "tags": [],
            "needs_background": "light"
          }
        }
      ]
    },
    {
      "cell_type": "code",
      "metadata": {
        "colab": {
          "base_uri": "https://localhost:8080/",
          "height": 504
        },
        "id": "lE3O173wK6A1",
        "outputId": "4cf717b0-6c5c-485f-fccc-b6414ab9f97f"
      },
      "source": [
        "# Numbers of male/female in each marriage class:\n",
        "sns.factorplot('MARRIAGE',data=credit,kind='count',hue='SEX',palette='rainbow',aspect=1.5)\n",
        "plt.title('Marriage vs Sex')"
      ],
      "execution_count": 27,
      "outputs": [
        {
          "output_type": "stream",
          "text": [
            "/usr/local/lib/python3.7/dist-packages/seaborn/categorical.py:3714: UserWarning: The `factorplot` function has been renamed to `catplot`. The original name will be removed in a future release. Please update your code. Note that the default `kind` in `factorplot` (`'point'`) has changed `'strip'` in `catplot`.\n",
            "  warnings.warn(msg)\n",
            "/usr/local/lib/python3.7/dist-packages/seaborn/_decorators.py:43: FutureWarning: Pass the following variable as a keyword arg: x. From version 0.12, the only valid positional argument will be `data`, and passing other arguments without an explicit keyword will result in an error or misinterpretation.\n",
            "  FutureWarning\n"
          ],
          "name": "stderr"
        },
        {
          "output_type": "execute_result",
          "data": {
            "text/plain": [
              "Text(0.5, 1.0, 'Marriage vs Sex')"
            ]
          },
          "metadata": {
            "tags": []
          },
          "execution_count": 27
        },
        {
          "output_type": "display_data",
          "data": {
            "image/png": "[encoded data removed]",
            "text/plain": [
              "<Figure size 610.5x360 with 1 Axes>"
            ]
          },
          "metadata": {
            "tags": [],
            "needs_background": "light"
          }
        }
      ]
    },
    {
      "cell_type": "code",
      "metadata": {
        "colab": {
          "base_uri": "https://localhost:8080/",
          "height": 173
        },
        "id": "8EmpHthNLG0r",
        "outputId": "0e8298f3-3ff4-45b0-a6f1-3be62335f89a"
      },
      "source": [
        "# Number of customers who defaulted in each class grouped by sex. Also total was found for each class grouped by sex.\n",
        "credit[credit['DEFAULT']==1].pivot_table('DEFAULT', 'SEX', 'EDUCATION', aggfunc=np.sum, margins=True)"
      ],
      "execution_count": 70,
      "outputs": [
        {
          "output_type": "execute_result",
          "data": {
            "text/html": [
              "<div>\n",
              "<style scoped>\n",
              "    .dataframe tbody tr th:only-of-type {\n",
              "        vertical-align: middle;\n",
              "    }\n",
              "\n",
              "    .dataframe tbody tr th {\n",
              "        vertical-align: top;\n",
              "    }\n",
              "\n",
              "    .dataframe thead th {\n",
              "        text-align: right;\n",
              "    }\n",
              "</style>\n",
              "<table border=\"1\" class=\"dataframe\">\n",
              "  <thead>\n",
              "    <tr style=\"text-align: right;\">\n",
              "      <th>EDUCATION</th>\n",
              "      <th>graduate school</th>\n",
              "      <th>high school</th>\n",
              "      <th>other</th>\n",
              "      <th>university</th>\n",
              "      <th>All</th>\n",
              "    </tr>\n",
              "    <tr>\n",
              "      <th>SEX</th>\n",
              "      <th></th>\n",
              "      <th></th>\n",
              "      <th></th>\n",
              "      <th></th>\n",
              "      <th></th>\n",
              "    </tr>\n",
              "  </thead>\n",
              "  <tbody>\n",
              "    <tr>\n",
              "      <th>female</th>\n",
              "      <td>1130.0</td>\n",
              "      <td>692.0</td>\n",
              "      <td>19.0</td>\n",
              "      <td>1922.0</td>\n",
              "      <td>3763.0</td>\n",
              "    </tr>\n",
              "    <tr>\n",
              "      <th>male</th>\n",
              "      <td>906.0</td>\n",
              "      <td>545.0</td>\n",
              "      <td>14.0</td>\n",
              "      <td>1408.0</td>\n",
              "      <td>2873.0</td>\n",
              "    </tr>\n",
              "    <tr>\n",
              "      <th>All</th>\n",
              "      <td>2036.0</td>\n",
              "      <td>1237.0</td>\n",
              "      <td>33.0</td>\n",
              "      <td>3330.0</td>\n",
              "      <td>6636.0</td>\n",
              "    </tr>\n",
              "  </tbody>\n",
              "</table>\n",
              "</div>"
            ],
            "text/plain": [
              "EDUCATION  graduate school  high school  other  university     All\n",
              "SEX                                                               \n",
              "female              1130.0        692.0   19.0      1922.0  3763.0\n",
              "male                 906.0        545.0   14.0      1408.0  2873.0\n",
              "All                 2036.0       1237.0   33.0      3330.0  6636.0"
            ]
          },
          "metadata": {
            "tags": []
          },
          "execution_count": 70
        }
      ]
    },
    {
      "cell_type": "code",
      "metadata": {
        "colab": {
          "base_uri": "https://localhost:8080/"
        },
        "id": "H4vuyg7MMq3t",
        "outputId": "501c3599-ac84-4920-ceca-a549caf92e46"
      },
      "source": [
        "# Description of AGE:\n",
        "credit['AGE'].describe() # mean=35.49, midian=34.00"
      ],
      "execution_count": 72,
      "outputs": [
        {
          "output_type": "execute_result",
          "data": {
            "text/plain": [
              "count    30000.000000\n",
              "mean        35.485500\n",
              "std          9.217904\n",
              "min         21.000000\n",
              "25%         28.000000\n",
              "50%         34.000000\n",
              "75%         41.000000\n",
              "max         79.000000\n",
              "Name: AGE, dtype: float64"
            ]
          },
          "metadata": {
            "tags": []
          },
          "execution_count": 72
        }
      ]
    },
    {
      "cell_type": "code",
      "metadata": {
        "colab": {
          "base_uri": "https://localhost:8080/"
        },
        "id": "tv2N-r_3QMVx",
        "outputId": "8afff657-c123-4158-862a-316792e18cd0"
      },
      "source": [
        "# Description of LIMIT_BAL:\n",
        "credit['LIMIT_BAL'].describe() # mean=167484.32, midian=140000.00"
      ],
      "execution_count": 73,
      "outputs": [
        {
          "output_type": "execute_result",
          "data": {
            "text/plain": [
              "count      30000.000000\n",
              "mean      167484.322667\n",
              "std       129747.661567\n",
              "min        10000.000000\n",
              "25%        50000.000000\n",
              "50%       140000.000000\n",
              "75%       240000.000000\n",
              "max      1000000.000000\n",
              "Name: LIMIT_BAL, dtype: float64"
            ]
          },
          "metadata": {
            "tags": []
          },
          "execution_count": 73
        }
      ]
    },
    {
      "cell_type": "code",
      "metadata": {
        "colab": {
          "base_uri": "https://localhost:8080/",
          "height": 278
        },
        "id": "cj3WQkiWQbmt",
        "outputId": "38208715-0a97-46ca-bedc-e991847ba690"
      },
      "source": [
        "fig = sns.FacetGrid(credit, hue='SEX', aspect=4, palette='viridis')\n",
        "fig.map(sns.kdeplot, 'AGE', shade=True)\n",
        "fig.set(xlim=(15,80))\n",
        "fig.set(title='Distribution of Age Grouped by Gender')\n",
        "fig.add_legend()"
      ],
      "execution_count": 80,
      "outputs": [
        {
          "output_type": "execute_result",
          "data": {
            "text/plain": [
              "<seaborn.axisgrid.FacetGrid at 0x7fa6d6a1c450>"
            ]
          },
          "metadata": {
            "tags": []
          },
          "execution_count": 80
        },
        {
          "output_type": "display_data",
          "data": {
            "image/png": "[encoded data removed]",
            "text/plain": [
              "<Figure size 934.5x216 with 1 Axes>"
            ]
          },
          "metadata": {
            "tags": []
          }
        }
      ]
    },
    {
      "cell_type": "code",
      "metadata": {
        "colab": {
          "base_uri": "https://localhost:8080/",
          "height": 179
        },
        "id": "JMz9c8g9Rd3k",
        "outputId": "ea839343-0a1c-43e5-c507-8387c72c2c4a"
      },
      "source": [
        "fig = sns.FacetGrid(credit, hue='EDUCATION', aspect=4)\n",
        "fig.map(sns.kdeplot, 'AGE', shade=True)\n",
        "fig.set(xlim=(15,80))\n",
        "fig.set(title='Distribution of Age Grouped by Education')\n",
        "fig.add_legend()"
      ],
      "execution_count": 84,
      "outputs": [
        {
          "output_type": "execute_result",
          "data": {
            "text/plain": [
              "<seaborn.axisgrid.FacetGrid at 0x7fa6d8ce79d0>"
            ]
          },
          "metadata": {
            "tags": []
          },
          "execution_count": 84
        },
        {
          "output_type": "display_data",
          "data": {
            "image/png": "[encoded data removed]",
            "text/plain": [
              "<Figure size 980.625x216 with 1 Axes>"
            ]
          },
          "metadata": {
            "tags": []
          }
        }
      ]
    },
    {
      "cell_type": "code",
      "metadata": {
        "colab": {
          "base_uri": "https://localhost:8080/",
          "height": 197
        },
        "id": "uwiVOJQOWJiX",
        "outputId": "ec898ce0-4093-41b1-f9cd-caed4f8bd4bf"
      },
      "source": [
        "fig = sns.FacetGrid(credit, hue='MARRIAGE', aspect=4)\n",
        "fig.map(sns.kdeplot, 'AGE', shade=True, legend=False)\n",
        "fig.set(xlim=(15,80))\n",
        "plt.legend(title='MARRIAGE',loc='upper right',labels=['others', 'married', 'single', 'divorce'])\n",
        "fig.set(title='Distribution of Age Grouped by Marriage')"
      ],
      "execution_count": 136,
      "outputs": [
        {
          "output_type": "execute_result",
          "data": {
            "text/plain": [
              "<seaborn.axisgrid.FacetGrid at 0x7fa6d47dd6d0>"
            ]
          },
          "metadata": {
            "tags": []
          },
          "execution_count": 136
        },
        {
          "output_type": "display_data",
          "data": {
            "image/png": "[encoded data removed]",
            "text/plain": [
              "<Figure size 864x216 with 1 Axes>"
            ]
          },
          "metadata": {
            "tags": []
          }
        }
      ]
    },
    {
      "cell_type": "markdown",
      "metadata": {
        "id": "R7oLbHPQlKfZ"
      },
      "source": [
        "**Notice**</p>\n",
        "\"Single\" group is more likely to be younger than other marriage group. "
      ]
    },
    {
      "cell_type": "code",
      "metadata": {
        "colab": {
          "base_uri": "https://localhost:8080/",
          "height": 178
        },
        "id": "SeO_0GVGSMgT",
        "outputId": "295fecad-f16b-466e-da97-6e540dfcfa4a"
      },
      "source": [
        "fig = sns.FacetGrid(credit, hue='SEX', aspect=4, palette='viridis')\n",
        "fig.map(sns.kdeplot, 'LIMIT_BAL', shade=True)\n",
        "MAX = credit['LIMIT_BAL'].max()\n",
        "fig.set(xlim=(0,MAX))\n",
        "fig.set(title='Distribution of Age Grouped by Gender')\n",
        "fig.add_legend()"
      ],
      "execution_count": 89,
      "outputs": [
        {
          "output_type": "execute_result",
          "data": {
            "text/plain": [
              "<seaborn.axisgrid.FacetGrid at 0x7fa6d65e7b10>"
            ]
          },
          "metadata": {
            "tags": []
          },
          "execution_count": 89
        },
        {
          "output_type": "display_data",
          "data": {
            "image/png": "[encoded data removed]",
            "text/plain": [
              "<Figure size 934.5x216 with 1 Axes>"
            ]
          },
          "metadata": {
            "tags": []
          }
        }
      ]
    },
    {
      "cell_type": "code",
      "metadata": {
        "colab": {
          "base_uri": "https://localhost:8080/",
          "height": 171
        },
        "id": "vb3wd2hTSpIJ",
        "outputId": "c275884e-c221-4820-b830-7f3e386de719"
      },
      "source": [
        "fig = sns.FacetGrid(credit, hue='EDUCATION', aspect=4)\n",
        "fig.map(sns.kdeplot, 'LIMIT_BAL', shade=True)\n",
        "MAX = credit['LIMIT_BAL'].max()\n",
        "fig.set(xlim=(0,MAX))\n",
        "fig.set(title='Distribution of Amount Grouped by Gender')\n",
        "fig.add_legend()"
      ],
      "execution_count": 91,
      "outputs": [
        {
          "output_type": "execute_result",
          "data": {
            "text/plain": [
              "<seaborn.axisgrid.FacetGrid at 0x7fa6d65d9210>"
            ]
          },
          "metadata": {
            "tags": []
          },
          "execution_count": 91
        },
        {
          "output_type": "display_data",
          "data": {
            "image/png": "[encoded data removed]",
            "text/plain": [
              "<Figure size 980.625x216 with 1 Axes>"
            ]
          },
          "metadata": {
            "tags": []
          }
        }
      ]
    },
    {
      "cell_type": "code",
      "metadata": {
        "colab": {
          "base_uri": "https://localhost:8080/",
          "height": 585
        },
        "id": "rHzht5gGTCiK",
        "outputId": "1af071e0-2ea6-438f-dff2-018647b229a4"
      },
      "source": [
        "plt.figure(figsize=(10,8))\n",
        "plt.title('Distribution of Amount')\n",
        "sns.distplot(credit['LIMIT_BAL'],bins=10)"
      ],
      "execution_count": 101,
      "outputs": [
        {
          "output_type": "stream",
          "text": [
            "/usr/local/lib/python3.7/dist-packages/seaborn/distributions.py:2557: FutureWarning: `distplot` is a deprecated function and will be removed in a future version. Please adapt your code to use either `displot` (a figure-level function with similar flexibility) or `histplot` (an axes-level function for histograms).\n",
            "  warnings.warn(msg, FutureWarning)\n"
          ],
          "name": "stderr"
        },
        {
          "output_type": "execute_result",
          "data": {
            "text/plain": [
              "<matplotlib.axes._subplots.AxesSubplot at 0x7fa6d621ab50>"
            ]
          },
          "metadata": {
            "tags": []
          },
          "execution_count": 101
        },
        {
          "output_type": "display_data",
          "data": {
            "image/png": "[encoded data removed]",
            "text/plain": [
              "<Figure size 720x576 with 1 Axes>"
            ]
          },
          "metadata": {
            "tags": []
          }
        }
      ]
    },
    {
      "cell_type": "code",
      "metadata": {
        "colab": {
          "base_uri": "https://localhost:8080/",
          "height": 455
        },
        "id": "tmBGTwhqaWFi",
        "outputId": "e63da93b-f26a-46e2-e240-025a39237c70"
      },
      "source": [
        "# Default vs Monthly Payment Record:\n",
        "sns.lmplot('PAY_0','DEFAULT',data=credit)"
      ],
      "execution_count": 132,
      "outputs": [
        {
          "output_type": "stream",
          "text": [
            "/usr/local/lib/python3.7/dist-packages/seaborn/_decorators.py:43: FutureWarning: Pass the following variables as keyword args: x, y. From version 0.12, the only valid positional argument will be `data`, and passing other arguments without an explicit keyword will result in an error or misinterpretation.\n",
            "  FutureWarning\n"
          ],
          "name": "stderr"
        },
        {
          "output_type": "execute_result",
          "data": {
            "text/plain": [
              "<seaborn.axisgrid.FacetGrid at 0x7fa6d499e790>"
            ]
          },
          "metadata": {
            "tags": []
          },
          "execution_count": 132
        },
        {
          "output_type": "display_data",
          "data": {
            "image/png": "[encoded data removed]",
            "text/plain": [
              "<Figure size 360x360 with 1 Axes>"
            ]
          },
          "metadata": {
            "tags": []
          }
        }
      ]
    },
    {
      "cell_type": "code",
      "metadata": {
        "colab": {
          "base_uri": "https://localhost:8080/",
          "height": 455
        },
        "id": "FFFaZyA4fjZp",
        "outputId": "be0c2bd7-bf93-4af1-81c0-ac47b2ecc74b"
      },
      "source": [
        "sns.lmplot('PAY_2','DEFAULT',data=credit)"
      ],
      "execution_count": 180,
      "outputs": [
        {
          "output_type": "stream",
          "text": [
            "/usr/local/lib/python3.7/dist-packages/seaborn/_decorators.py:43: FutureWarning: Pass the following variables as keyword args: x, y. From version 0.12, the only valid positional argument will be `data`, and passing other arguments without an explicit keyword will result in an error or misinterpretation.\n",
            "  FutureWarning\n"
          ],
          "name": "stderr"
        },
        {
          "output_type": "execute_result",
          "data": {
            "text/plain": [
              "<seaborn.axisgrid.FacetGrid at 0x7fa6d37d2a90>"
            ]
          },
          "metadata": {
            "tags": []
          },
          "execution_count": 180
        },
        {
          "output_type": "display_data",
          "data": {
            "image/png": "[encoded data removed]",
            "text/plain": [
              "<Figure size 360x360 with 1 Axes>"
            ]
          },
          "metadata": {
            "tags": [],
            "needs_background": "light"
          }
        }
      ]
    },
    {
      "cell_type": "code",
      "metadata": {
        "colab": {
          "base_uri": "https://localhost:8080/",
          "height": 455
        },
        "id": "JMXEXMJZkjn2",
        "outputId": "1c87620b-d7ab-4c02-9bef-bd7bc2c12612"
      },
      "source": [
        "sns.lmplot('PAY_6','DEFAULT',data=credit)"
      ],
      "execution_count": 181,
      "outputs": [
        {
          "output_type": "stream",
          "text": [
            "/usr/local/lib/python3.7/dist-packages/seaborn/_decorators.py:43: FutureWarning: Pass the following variables as keyword args: x, y. From version 0.12, the only valid positional argument will be `data`, and passing other arguments without an explicit keyword will result in an error or misinterpretation.\n",
            "  FutureWarning\n"
          ],
          "name": "stderr"
        },
        {
          "output_type": "execute_result",
          "data": {
            "text/plain": [
              "<seaborn.axisgrid.FacetGrid at 0x7fa6d3751410>"
            ]
          },
          "metadata": {
            "tags": []
          },
          "execution_count": 181
        },
        {
          "output_type": "display_data",
          "data": {
            "image/png": "[encoded data removed]",
            "text/plain": [
              "<Figure size 360x360 with 1 Axes>"
            ]
          },
          "metadata": {
            "tags": [],
            "needs_background": "light"
          }
        }
      ]
    },
    {
      "cell_type": "code",
      "metadata": {
        "colab": {
          "base_uri": "https://localhost:8080/",
          "height": 489
        },
        "id": "5X1qdTTyfShq",
        "outputId": "65522800-9db6-4fc8-8f8f-9ea6c31817ba"
      },
      "source": [
        "sns.factorplot('PAY_0', 'DEFAULT', data=credit, palette='winter') "
      ],
      "execution_count": 156,
      "outputs": [
        {
          "output_type": "stream",
          "text": [
            "/usr/local/lib/python3.7/dist-packages/seaborn/categorical.py:3714: UserWarning: The `factorplot` function has been renamed to `catplot`. The original name will be removed in a future release. Please update your code. Note that the default `kind` in `factorplot` (`'point'`) has changed `'strip'` in `catplot`.\n",
            "  warnings.warn(msg)\n",
            "/usr/local/lib/python3.7/dist-packages/seaborn/_decorators.py:43: FutureWarning: Pass the following variables as keyword args: x, y. From version 0.12, the only valid positional argument will be `data`, and passing other arguments without an explicit keyword will result in an error or misinterpretation.\n",
            "  FutureWarning\n"
          ],
          "name": "stderr"
        },
        {
          "output_type": "execute_result",
          "data": {
            "text/plain": [
              "<seaborn.axisgrid.FacetGrid at 0x7fa6d3dda790>"
            ]
          },
          "metadata": {
            "tags": []
          },
          "execution_count": 156
        },
        {
          "output_type": "display_data",
          "data": {
            "image/png": "[encoded data removed]",
            "text/plain": [
              "<Figure size 360x360 with 1 Axes>"
            ]
          },
          "metadata": {
            "tags": []
          }
        }
      ]
    },
    {
      "cell_type": "code",
      "metadata": {
        "colab": {
          "base_uri": "https://localhost:8080/",
          "height": 489
        },
        "id": "nN0MGiIobjDO",
        "outputId": "9c2726c8-128c-429e-c7a0-44662c78e938"
      },
      "source": [
        "sns.factorplot('PAY_2', 'DEFAULT', data=credit, palette='winter') "
      ],
      "execution_count": 178,
      "outputs": [
        {
          "output_type": "stream",
          "text": [
            "/usr/local/lib/python3.7/dist-packages/seaborn/categorical.py:3714: UserWarning: The `factorplot` function has been renamed to `catplot`. The original name will be removed in a future release. Please update your code. Note that the default `kind` in `factorplot` (`'point'`) has changed `'strip'` in `catplot`.\n",
            "  warnings.warn(msg)\n",
            "/usr/local/lib/python3.7/dist-packages/seaborn/_decorators.py:43: FutureWarning: Pass the following variables as keyword args: x, y. From version 0.12, the only valid positional argument will be `data`, and passing other arguments without an explicit keyword will result in an error or misinterpretation.\n",
            "  FutureWarning\n"
          ],
          "name": "stderr"
        },
        {
          "output_type": "execute_result",
          "data": {
            "text/plain": [
              "<seaborn.axisgrid.FacetGrid at 0x7fa6d394d210>"
            ]
          },
          "metadata": {
            "tags": []
          },
          "execution_count": 178
        },
        {
          "output_type": "display_data",
          "data": {
            "image/png": "[encoded data removed]",
            "text/plain": [
              "<Figure size 360x360 with 1 Axes>"
            ]
          },
          "metadata": {
            "tags": [],
            "needs_background": "light"
          }
        }
      ]
    },
    {
      "cell_type": "code",
      "metadata": {
        "colab": {
          "base_uri": "https://localhost:8080/",
          "height": 489
        },
        "id": "4VE23HBFkc3_",
        "outputId": "89580a5c-765b-45ce-8696-d698518c94d0"
      },
      "source": [
        "sns.factorplot('PAY_6', 'DEFAULT', data=credit, palette='winter') "
      ],
      "execution_count": 179,
      "outputs": [
        {
          "output_type": "stream",
          "text": [
            "/usr/local/lib/python3.7/dist-packages/seaborn/categorical.py:3714: UserWarning: The `factorplot` function has been renamed to `catplot`. The original name will be removed in a future release. Please update your code. Note that the default `kind` in `factorplot` (`'point'`) has changed `'strip'` in `catplot`.\n",
            "  warnings.warn(msg)\n",
            "/usr/local/lib/python3.7/dist-packages/seaborn/_decorators.py:43: FutureWarning: Pass the following variables as keyword args: x, y. From version 0.12, the only valid positional argument will be `data`, and passing other arguments without an explicit keyword will result in an error or misinterpretation.\n",
            "  FutureWarning\n"
          ],
          "name": "stderr"
        },
        {
          "output_type": "execute_result",
          "data": {
            "text/plain": [
              "<seaborn.axisgrid.FacetGrid at 0x7fa6d38ead90>"
            ]
          },
          "metadata": {
            "tags": []
          },
          "execution_count": 179
        },
        {
          "output_type": "display_data",
          "data": {
            "image/png": "[encoded data removed]",
            "text/plain": [
              "<Figure size 360x360 with 1 Axes>"
            ]
          },
          "metadata": {
            "tags": [],
            "needs_background": "light"
          }
        }
      ]
    },
    {
      "cell_type": "code",
      "metadata": {
        "colab": {
          "base_uri": "https://localhost:8080/",
          "height": 253
        },
        "id": "WZXlcQomTdDk",
        "outputId": "658aedcd-1a47-4945-c768-8ac747a020d9"
      },
      "source": [
        "fig = sns.FacetGrid(credit, hue='DEFAULT', aspect=4, palette='viridis')\n",
        "fig.map(sns.countplot, 'PAY_0')\n",
        "# fig.set(xlim=(-2,8))\n",
        "fig.set(title='Distribution of Default Grouped by Pay_0')\n",
        "plt.legend(title='DEFAULT',loc='upper right',labels=['not default', 'default'])"
      ],
      "execution_count": 137,
      "outputs": [
        {
          "output_type": "stream",
          "text": [
            "/usr/local/lib/python3.7/dist-packages/seaborn/axisgrid.py:643: UserWarning: Using the countplot function without specifying `order` is likely to produce an incorrect plot.\n",
            "  warnings.warn(warning)\n"
          ],
          "name": "stderr"
        },
        {
          "output_type": "execute_result",
          "data": {
            "text/plain": [
              "<matplotlib.legend.Legend at 0x7fa6d473c050>"
            ]
          },
          "metadata": {
            "tags": []
          },
          "execution_count": 137
        },
        {
          "output_type": "display_data",
          "data": {
            "image/png": "[encoded data removed]",
            "text/plain": [
              "<Figure size 864x216 with 1 Axes>"
            ]
          },
          "metadata": {
            "tags": []
          }
        }
      ]
    },
    {
      "cell_type": "code",
      "metadata": {
        "colab": {
          "base_uri": "https://localhost:8080/",
          "height": 253
        },
        "id": "0npuiThyezZ8",
        "outputId": "00f52e6d-c61b-424e-c5e7-a955b2baff65"
      },
      "source": [
        "fig = sns.FacetGrid(credit, hue='DEFAULT', aspect=4, palette='viridis')\n",
        "fig.map(sns.countplot, 'PAY_2')\n",
        "# fig.set(xlim=(-2,8))\n",
        "fig.set(title='Distribution of Default Grouped by Pay_2')\n",
        "plt.legend(title='DEFAULT',loc='upper right',labels=['not default', 'default'])"
      ],
      "execution_count": 177,
      "outputs": [
        {
          "output_type": "stream",
          "text": [
            "/usr/local/lib/python3.7/dist-packages/seaborn/axisgrid.py:643: UserWarning: Using the countplot function without specifying `order` is likely to produce an incorrect plot.\n",
            "  warnings.warn(warning)\n"
          ],
          "name": "stderr"
        },
        {
          "output_type": "execute_result",
          "data": {
            "text/plain": [
              "<matplotlib.legend.Legend at 0x7fa6d4837610>"
            ]
          },
          "metadata": {
            "tags": []
          },
          "execution_count": 177
        },
        {
          "output_type": "display_data",
          "data": {
            "image/png": "[encoded data removed]",
            "text/plain": [
              "<Figure size 864x216 with 1 Axes>"
            ]
          },
          "metadata": {
            "tags": [],
            "needs_background": "light"
          }
        }
      ]
    },
    {
      "cell_type": "markdown",
      "metadata": {
        "id": "fUvAueCzjmWF"
      },
      "source": [
        "**Conclusion**</p>\n",
        "-2: No consumption; -1: Paid in full; 0: The use of revolving credit --> has a bigger chance not to default</p>\n",
        "1 = payment delay for one month; 2 = payment delay for two months; ... --> who has a payment delay record is more likely to default"
      ]
    },
    {
      "cell_type": "markdown",
      "metadata": {
        "id": "cSy4WXuIVMrv"
      },
      "source": [
        "# Summary"
      ]
    },
    {
      "cell_type": "markdown",
      "metadata": {
        "id": "vSRSxB_cVdWX"
      },
      "source": [
        "**DEFAULT** is highly correlated with \"history of past payment,\" expecially the payment record of April 2005, and \"amount of the given credit\" (LIMIT_BAL).</p>\n",
        "\n",
        "**Insights**</p>\n",
        "\n",
        "*   For \"history of past payment\", people with delay history are more likely to default. \n",
        "*   \"ID\", \"AGE\", \"MARRIAGE\" and \"BILL-AMT 1~6\" are not that related with \"DEFAULT\". So for the future machine learning, maybe it's good to remove these attributes from the predictors.\n"
      ]
    },
    {
      "cell_type": "code",
      "metadata": {
        "id": "9ULeDrryVgMx"
      },
      "source": [
        ""
      ],
      "execution_count": null,
      "outputs": []
    }
  ]
}